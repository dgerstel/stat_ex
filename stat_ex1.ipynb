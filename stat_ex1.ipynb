{
 "cells": [
  {
   "cell_type": "markdown",
   "metadata": {},
   "source": [
    "TODO:\n",
    "- scan over N=100, ..., 1000000 to show convergence of covariance matrix\n",
    "- visualise all 6 rows (superimposed Gaussians); draw tables summarising results\n",
    "- mean +- sigma NEW vs ORIGINAL data"
   ]
  },
  {
   "cell_type": "code",
   "execution_count": 1,
   "metadata": {
    "collapsed": true
   },
   "outputs": [],
   "source": [
    "# useful visualisation and numerical tools\n",
    "%matplotlib inline\n",
    "import matplotlib.pyplot as plt\n",
    "import numpy as np\n",
    "import seaborn as sns; sns.set();"
   ]
  },
  {
   "cell_type": "markdown",
   "metadata": {
    "collapsed": true
   },
   "source": [
    "### Part 1\n",
    "##### The Box-Muller transform:\n",
    "\n",
    "$\\left\\{\n",
    "    \\begin{array}{ll}\n",
    "        z_1 = \\sqrt{-2\\log{u_1}} \\cos{(2\\pi u_2)} \\\\\n",
    "        z_2 = \\sqrt{-2\\log{u_1}} \\sin{(2\\pi u_2)}, \n",
    "    \\end{array}\n",
    "\\right.$\n",
    "with $u_1, u_2$ ~ U(0,1).\n",
    "\n",
    "**Derivation**\n",
    "\n",
    "Let us denote $y_1 = y_1(u_1) = \\sqrt{-2\\log{u_1}}$, $y_2 = y_2(u_2) = \\cos{(2\\pi u_2)}$, and $y_3 = y_3(u_2) = \\sin{(2\\pi u_2)}$. Then the Box_Muller transform can be expressed as:\n",
    "$\\left\\{\n",
    "    \\begin{array}{ll}\n",
    "        z_1 = y_1(u_1) y_2(u_2) \\\\\n",
    "        z_2 = y_1(u_1) y_3(u_2), \n",
    "    \\end{array}\n",
    "\\right.$\n",
    "with $0 \\leq y_1 \\leq +\\infty$ and $-1 \\leq y_2, y_3 \\leq 1$.\n",
    "\n",
    "Note that $z_1$ and $z_2$ are products of independent random variables (what stems from independence of $u_1$ and $u_2$). Therefore, the *Mellin Convolution* is applicable here and we may compute p.d.f.'s of $z_1$ and $z_2$ as:\n",
    "\n",
    "$$f_{z_1}(z_1) = \\int\\limits_{-\\infty}^{+\\infty} f_{y_1}(y_1) f_{y_2}\\left(\\frac{z_1}{\\left|y_1\\right|}\\right) \\, \\frac{dy_1}{\\left|y_1\\right|} $$\n",
    "\n",
    "$$f_{z_2}(z_2) = \\int\\limits_{-\\infty}^{+\\infty} f_{y_1}(y_1) f_{y_3}\\left(\\frac{z_2}{\\left|y_1\\right|}\\right) \\, \\frac{dy_1}{\\left|y_1\\right|} $$.\n",
    "\n",
    "In order to calculate the above we will derive p.d.f.'s of $y_1$, $y_2$ and $y_3$.\n",
    "To do so we will apply the method of direct transformation of p.d.f., which transforms $f_x(x)$ into $f_y(y)$ with $y=g(x)$ as follows:\n",
    "$$ f_y(y) = \\sum\\limits_{i=1}^{N} \\frac{f_x(x^{(i)}(y))}{\\left|g'(x^{(i)}(y))\\right|},$$\n",
    "with summation over all $N$ real roots of $g(x) = y$.\n",
    "\n",
    "However, if the $g(x)$ is invertible so that $g^{-1}(x) = h(y)$ the formula simplifies to:\n",
    "$$ f_y(y) = f_x\\left(h(y)\\right) \\left|h'(y)\\right|.$$\n",
    "\n",
    "**In the case of $y_1 = y_1(u_1) = \\sqrt{-2\\log{u_1}}$**, which is invertible we apply the above formula:\n",
    "$$ f_y(y_1) = f_{u_1}\\left(h(y_1)\\right) \\left|h'(y_1)\\right|.$$\n",
    "\n",
    "We immediately get $h(y_1) = e^{-\\frac{1}{2}y_1^2}$ and $h'(y_1) = -y_1e^{-\\frac{1}{2}y_1^2}.$\n",
    "Also noting that $f_{u_1}(h_{y_1})$ does not vanish for any $y_1$, because $f_{u_1}(h(y_1)) = 1 \\iff 0 \\leq e^{-\\frac{1}{2}y_1^2} \\leq 1 \\iff y_1^2 \\geq 0 \\iff -\\infty \\leq y_1 \\leq +\\infty$.\n",
    "We obtain:\n",
    "\n",
    "$f_{y_1}(y_1) =         y_1 e^{-\\frac{1}{2}y_1^2} \\mbox{ for } -\\infty \\leq y_1 \\leq +\\infty$.\n",
    "\n",
    "**In the case of $y_2 = y_2(u_2) = \\cos{(2\\pi u_2)}$** we deal with a non-invertible function. The $g(u_2) = \\cos{(2\\pi u_2)}$ has two roots:\n",
    "- $u_2^{(1)} = \\frac{1}{2\\pi} \\arccos{y_2} \\mbox{  with }-1 \\leq y_2 \\leq 1,$\n",
    "- $u_2^{(2)} = 1 - \\frac{1}{2\\pi} \\arccos{y_2} \\mbox{  with } -1 \\leq y_2 \\leq 1.$\n",
    "\n",
    "The both roots yield $f_{u_2}(u_2^{(i)}) = 1$.\n",
    "Computing the derivatives gives $g'(u_2^{(i)}) = -2\\pi\\sin{2\\pi u_2^{(i)}}$ which equals:\n",
    "- $g'(u_2^{(1)}) = -2\\pi\\sin{\\arccos{y_2}} = -2\\pi \\sqrt{1-y_2^2},$\n",
    "- $g'(u_2^{(2)}) = -2\\pi\\sin{2\\pi - \\arccos{y_2}} = 2\\pi \\sqrt{1-y_2^2}$\n",
    "\n",
    "Applying the direct transformation formula we get:\n",
    "\n",
    "$f_{y_2}(y_2) =\n",
    "\\left\\{\n",
    "    \\begin{array}{ll}\n",
    "        \\frac{1}{\\pi \\sqrt{1-y_2^2}} & \\mbox{ for } -1 \\leq y_2 \\leq 1, \\\\\n",
    "        0 & \\mbox{ otherwise}. \n",
    "    \\end{array}\n",
    "\\right.$\n",
    "\n",
    "**In the case of $y_3 = y_3(u_2) = \\sin{2\\pi u_2)}$** we also have a non-invertible function.\n",
    "The roots of  $g(u_2) = \\sin{(2\\pi u_2)}$ are:\n",
    "- $u_2^{(1)} = \\frac{1}{2\\pi} \\arcsin{y_3} \\mbox{ with } -1 \\leq y_3 \\leq 1,$\n",
    "- $u_2^{(2)} = \\frac{1}{2\\pi} \\left( \\pi  - \\arcsin{y_3} \\right) \\mbox{ with } -1 \\leq y_3 \\leq 1.$\n",
    "\n",
    "The both roots yield $f_{u_2}(u_2^{(i)}) = 1$.\n",
    "Computing the derivatives gives $g'(u_2^{(i)}) = 2\\pi\\cos{2\\pi u_2^{(i)}}$ which equals:\n",
    "- $g'(u_2^{(1)}) = 2\\pi\\cos{\\arccos{y_3}} = 2\\pi \\sqrt{1-y_3^2},$\n",
    "- $g'(u_2^{(1)}) = 2\\pi\\cos \\left( {\\pi - \\arccos{y_3}} \\right)= -2\\pi \\sqrt{1-y_3^2}.$\n",
    "\n",
    "Applying the direct transformation formula we get:\n",
    "\n",
    "$f_{y_3}(y_3) = $\n",
    "$\\left\\{\n",
    "    \\begin{array}{ll}\n",
    "        \\frac{1}{\\pi \\sqrt{1-y_3^2}} & \\mbox{ for } -1 \\leq y_3 \\leq 1, \\\\\n",
    "        0 & \\mbox{ otherwise}. \n",
    "    \\end{array}\n",
    "\\right.$\n",
    "\n",
    "Now that we have p.d.f.'s of $y_1$, $y_2$ and $y_3$ we may apply the *Mellin Convolution* as defined at the beginning of this section and get:\n",
    "\n",
    "$$f_{z_1}(z_1) = \\int\\limits_{-\\infty}^{+\\infty} f_{y_1}(y_1) f_{y_2}\\left(\\frac{z_1}{\\left|y_1\\right|}\\right) \\, \\frac{dy_1}{\\left|y_1\\right|} =\n",
    "\\int\\limits_{-\\infty}^{+\\infty} y_1 e^{-\\frac{1}{2}y_1^2}  \\frac{1}{\\pi \\sqrt{1-\\left(\\frac{z_1}{y_1}\\right)^2}} \\, \\frac{dy_1}{\\left|y_1\\right|} =\n",
    "\\int\\limits_{-\\infty}^{+\\infty} e^{-\\frac{1}{2}y_1^2}  \\frac{y_1 dy_1}{\\pi \\sqrt{y_1^2 - z_1^2}}\n",
    "$$\n",
    "\n",
    "\n",
    "Let $p = \\sqrt{y_1^2 - z_1^2}$ and $0 \\leq p \\leq +\\infty \\implies dp = \\frac{y_1 dy_1}{\\sqrt{y_1^2 - z_1^2}}$\n",
    "\n",
    "Then we have:\n",
    "$$f_{z_1}(z_1) = \\frac{1}{\\pi} \\int\\limits_{0}^{+\\infty} e^{-\\frac{1}{2}\\left(p^2+z_1^2\\right)} dp = \n",
    "\\frac{1}{\\pi} e^{-\\frac{1}{2}z_1^2}  \\int\\limits_{0}^{+\\infty} e^{-\\frac{1}{2}p^2} dp\n",
    "= \\frac{1}{2\\pi} e^{-\\frac{1}{2}z_1^2} \\implies f_{z_1}(z_1) \\sim N(0,1)$$\n",
    "\n",
    "\n",
    "$$f_{z_2}(z_2) = \\int\\limits_{-\\infty}^{+\\infty} f_{y_1}(y_1) f_{y_3}\\left(\\frac{z_2}{\\left|y_1\\right|}\\right) \\, \\frac{dy_1}{\\left|y_1\\right|} = \\int\\limits_{-\\infty}^{+\\infty} y_1 e^{-\\frac{1}{2}y_1^2}  \\frac{1}{\\pi \\sqrt{1-\\left(\\frac{z_2}{y_1}\\right)^2}} \\, \\frac{dy_1}{\\left|y_1\\right|} = \\frac{1}{2\\pi} e^{-\\frac{1}{2}z_2^2} \\implies f_{z_2}(z_2) \\sim N(0,1)$$.\n",
    "\n",
    "Having proven that Box-Muller transform indeed generates random variables $\\sim N(0,1)$ let us procede to implementing the transform in the following part."
   ]
  },
  {
   "cell_type": "markdown",
   "metadata": {},
   "source": [
    "### Part 2\n",
    "In order to obtain random variables of generic $\\mu$ and $\\sigma$ it is sufficient to transform $z_1$ and $z_2$ as follows:\n",
    "\n",
    "$\\left\\{\n",
    "    \\begin{array}{ll}\n",
    "        x_1 = z_1 \\sigma_1 + \\mu_1 \\mbox{ where } x_1 \\sim N(\\mu_1, \\sigma_1^2)\\\\\n",
    "        x_2 = z_2 \\sigma_2 + \\mu_2 \\mbox{ where } x_2 \\sim N(\\mu_2, \\sigma_2^2).\n",
    "    \\end{array}\n",
    "\\right.$\n"
   ]
  },
  {
   "cell_type": "markdown",
   "metadata": {},
   "source": [
    "### Part 3\n",
    "\n",
    "The $z_1$ and $z_2$ random variables can be generated by invoking the function below."
   ]
  },
  {
   "cell_type": "code",
   "execution_count": 2,
   "metadata": {
    "collapsed": false
   },
   "outputs": [
    {
     "name": "stdout",
     "output_type": "stream",
     "text": [
      "(2, 1000)\n"
     ]
    }
   ],
   "source": [
    "def get_box_muller(size=1, mus=(0,0), sigs2=(1,1)):\n",
    "    \"\"\"Generate size # of pairs of independent normal random variables of specified mean\n",
    "       (mus) and variance (sigs2) according to the Box-Muller\n",
    "       transform\"\"\"\n",
    "#     np.random.seed(42) ## DEBUG\n",
    "    # ~ U(0,1) sample of shape `size` x 2 (corresponds to u1 and u2)\n",
    "    u = np.random.random_sample((size, 2))\n",
    "    R = np.sqrt(-2 * np.log(u[:, 0]))\n",
    "    z1 = R * np.cos(2 * np.pi * u[:, 1])\n",
    "    z2 = R * np.sin(2 * np.pi * u[:, 1])    \n",
    "#     print z1, z2\n",
    "    return z1 * np.sqrt(sigs2[0]) + mus[0], z2 * np.sqrt(sigs2[1]) + mus[1]\n",
    "    \n",
    "z1, z2 = get_box_muller(1000, mus=(1,1), sigs2=(1,1))\n",
    "zzz = get_box_muller(1000, mus=(1,1), sigs2=(1,1))\n",
    "print np.shape(zzz)"
   ]
  },
  {
   "cell_type": "markdown",
   "metadata": {},
   "source": [
    "Let us check if this function indeed generates random variables $\\sim N(\\mu, \\sigma^2)$ by histogramming generated data with the next function."
   ]
  },
  {
   "cell_type": "code",
   "execution_count": 3,
   "metadata": {
    "collapsed": false
   },
   "outputs": [
    {
     "data": {
      "image/png": "[encoded data removed]",
      "text/plain": [
       "<matplotlib.figure.Figure at 0x7ff77c94e490>"
      ]
     },
     "metadata": {},
     "output_type": "display_data"
    },
    {
     "name": "stdout",
     "output_type": "stream",
     "text": [
      "mu =  0.977575137824 sigma =  1.03550152739\n"
     ]
    }
   ],
   "source": [
    "def hist(data, Nbins):\n",
    "    \"\"\"Histogram array-like 1-D `data` into `Nbins` # of bins\"\"\"\n",
    "    hist, bins = np.histogram(data, bins=Nbins)\n",
    "    width = 0.7 * (bins[1] - bins[0])  # bar width a bit smaller than bin's (for visual clarity)\n",
    "    center = (bins[:-1] + bins[1:]) / 2  # midpoints of all bins\n",
    "    plt.bar(center, hist, align='center', width=width)  # bar chart depicting the histogram\n",
    "    plt.show()\n",
    "    \n",
    "hist(z2, Nbins=80)\n",
    "print \"mu = \", np.mean(z2), \"sigma = \", np.std(z2)"
   ]
  },
  {
   "cell_type": "markdown",
   "metadata": {},
   "source": [
    "By inspecting the histogram by eye and comparing the computed parameters from the generated sample - we see\n",
    "that our function seems to be consistent with the Box-Muller transform.\n",
    "\n",
    "##### Monte Carlo simulations \n",
    "Now we are to realise $N=100$ MC simulations of a 6-dimensional Gaussian random vector $\\textbf{v}$ with mean\n",
    "$\\mu = (0.5, -0.4, 2.1, 0.2, 3.1, -1.0)$ and a given covariance matrix (specified in the subsequent code)."
   ]
  },
  {
   "cell_type": "code",
   "execution_count": 24,
   "metadata": {
    "collapsed": false
   },
   "outputs": [],
   "source": [
    "N = 100000  # no. of MC samples\n",
    "mu_list = [0.5, -0.4, 2.1, 0.2, 3.1, -1.0]\n",
    "np.random.seed(42) ## DEBUG\n",
    "v1, v2, v3 = get_box_muller(N), get_box_muller(N), get_box_muller(N)\n",
    "# print v1,'\\n\\n',v2,'\\n\\n',v3"
   ]
  },
  {
   "cell_type": "code",
   "execution_count": 25,
   "metadata": {
    "collapsed": false,
    "scrolled": true
   },
   "outputs": [
    {
     "name": "stdout",
     "output_type": "stream",
     "text": [
      "(6, 100000)\n"
     ]
    }
   ],
   "source": [
    "v = np.concatenate((v1, v2, v3), axis=0)\n",
    "print np.shape(v)\n"
   ]
  },
  {
   "cell_type": "markdown",
   "metadata": {
    "collapsed": false
   },
   "source": []
  },
  {
   "cell_type": "code",
   "execution_count": 26,
   "metadata": {
    "collapsed": false
   },
   "outputs": [
    {
     "name": "stdout",
     "output_type": "stream",
     "text": [
      "-0.00270073661547 -0.00251018126613\n",
      "0.99864880146 0.995957122624\n"
     ]
    }
   ],
   "source": [
    "print np.mean(v[0, :]), np.mean(v[1, :])\n",
    "print np.var(v[0, :]), np.var(v[1, :])"
   ]
  },
  {
   "cell_type": "code",
   "execution_count": 27,
   "metadata": {
    "collapsed": false,
    "scrolled": true
   },
   "outputs": [],
   "source": [
    "# Let's visualise obtained distributions of 6 components of v\n",
    "# plt.hist(v[0], bins=np.linspace(-2,2,100), normed=True, alpha=0.5, label='v0')\n"
   ]
  },
  {
   "cell_type": "code",
   "execution_count": 28,
   "metadata": {
    "collapsed": false,
    "scrolled": true
   },
   "outputs": [
    {
     "name": "stdout",
     "output_type": "stream",
     "text": [
      "Demanded covariance matrix C:\n",
      "[[  9.000e-02   2.200e-02   6.100e-02   4.000e-03   4.000e-03   1.000e-03]\n",
      " [  2.200e-02   4.000e-02   1.104e-01   8.000e-03   8.000e-03   1.000e-03]\n",
      " [  6.100e-02   1.104e-01   2.250e+00   1.650e-01   1.620e-01   2.200e-02]\n",
      " [  4.000e-03   8.000e-03   1.650e-01   9.000e-02   8.800e-02   1.200e-02]\n",
      " [  4.000e-03   8.000e-03   1.620e-01   8.800e-02   6.400e-01   8.800e-02]\n",
      " [  1.000e-03   1.000e-03   2.200e-02   1.200e-02   8.800e-02   9.000e-02]] \n",
      "\n",
      "\n",
      "New data covariance matrix:\n",
      "[[  8.988e-02   2.192e-02   6.170e-02   4.075e-03   3.690e-03   1.156e-03]\n",
      " [  2.192e-02   3.983e-02   1.102e-01   8.111e-03   8.403e-03   1.301e-03]\n",
      " [  6.170e-02   1.102e-01   2.252e+00   1.658e-01   1.624e-01   2.491e-02]\n",
      " [  4.075e-03   8.111e-03   1.658e-01   9.046e-02   8.898e-02   1.256e-02]\n",
      " [  3.690e-03   8.403e-03   1.624e-01   8.898e-02   6.400e-01   8.836e-02]\n",
      " [  1.156e-03   1.301e-03   2.491e-02   1.256e-02   8.836e-02   9.006e-02]] \n",
      "\n",
      "means and vars for each new data row:\n",
      "mean= 0.499189779015 var= 0.0898783921314\n",
      "mean= -0.400665124643 var= 0.0398289721397\n",
      "mean= 2.09400507503 var= 2.25241163014\n",
      "mean= 0.199662316424 var= 0.0904576242071\n",
      "mean= 3.09754885869 var= 0.640023117427\n",
      "mean= -1.00058606903 var= 0.0900587399315\n"
     ]
    }
   ],
   "source": [
    "### Correlating the data\n",
    "np.set_printoptions(precision=3)\n",
    "# Covariance matrix for vector v\n",
    "C = np.matrix([[.090, .022, .061, .004, .004, .001],\n",
    "               [.022, .040, .1104, .008, .008, .001],\n",
    "               [.061, .1104, 2.25, .165, .162, .022],\n",
    "               [.004, .008, .1650, .090, .088, .012],\n",
    "               [.004, .008, .1620, .088, .640, .088],\n",
    "               [.001, .001, .0220, .012, .088, .090]])\n",
    "print \"Demanded covariance matrix C:\\n\", C, '\\n'\n",
    "C == C.T\n",
    "L = np.linalg.cholesky(C)\n",
    "# print \"Cholesky L (lower triangular) matrix:\\n\", L, '\\n'\n",
    "X = np.dot(L, v) + np.reshape(mu_list, newshape=(len(mu_list), 1))\n",
    "# print \"New data: \\n\", X, \n",
    "print \"\\nNew data covariance matrix:\\n\", np.cov(X), '\\n'\n",
    "# print \"C - cov(X) normalised to C:\\n\", (C - np.cov(X)) / C\n",
    "# print '\\nCovariance at the start', np.cov(v)\n",
    "# print '\\nand correlation coefficient:', np.corrcoef(v)\n",
    "# print '\\nthe original data `v`:\\n', v\n",
    "\n",
    "# CHECKED OK\n",
    "print \"means and vars for each new data row:\"\n",
    "for row in X:\n",
    "    print \"mean=\", np.mean(row), \"var=\", np.var(row)\n",
    "\n",
    "# The biggest deviations within order of magnitude!!! and convergent (i.e. for 100k results better than for 10k)"
   ]
  },
  {
   "cell_type": "code",
   "execution_count": 29,
   "metadata": {
    "collapsed": false,
    "scrolled": true
   },
   "outputs": [
    {
     "name": "stdout",
     "output_type": "stream",
     "text": [
      "[[ True  True  True]\n",
      " [ True  True  True]\n",
      " [ True  True  True]]\n",
      "[[ 1.     0.     0.   ]\n",
      " [ 0.5    0.866  0.   ]\n",
      " [ 0.5    0.289  0.816]]\n",
      "[[ 1.011  0.51   0.508]\n",
      " [ 0.51   1.017  0.508]\n",
      " [ 0.508  0.508  0.999]]\n"
     ]
    }
   ],
   "source": [
    "\n",
    "### Toy example - generating correlated normal variables\n",
    "from scipy.stats import norm\n",
    "Z = norm.rvs(size=(3,10000))\n",
    "C = np.matrix([[1, .5, .5],\n",
    "               [.5, 1, .5],\n",
    "               [.5, .5, 1]])\n",
    "print C == C.T\n",
    "L = np.linalg.cholesky(C)\n",
    "# my_L = cholesky(C)  ## doesn't work yet\n",
    "# print L == my_L\n",
    "print L\n",
    "X = np.dot(L, Z)\n",
    "print np.cov(X)"
   ]
  },
  {
   "cell_type": "code",
   "execution_count": 30,
   "metadata": {
    "collapsed": true
   },
   "outputs": [],
   "source": [
    "from math import sqrt\n",
    " \n",
    "#TODO: the below seems not to work. Debug it.\n",
    "def cholesky(A):\n",
    "    \"\"\"Performs a Cholesky decomposition of A, which must \n",
    "    be a symmetric and positive definite matrix. The function\n",
    "    returns the lower variant triangular matrix, L.\"\"\"\n",
    "    n = len(A)\n",
    "\n",
    "    # Create zero matrix for L\n",
    "    L = [[0.0] * n for i in xrange(n)]\n",
    "\n",
    "    # Perform the Cholesky decomposition\n",
    "    for i in xrange(n):\n",
    "        for k in xrange(i+1):\n",
    "            tmp_sum = sum(L[i][j] * L[k][j] for j in xrange(k))\n",
    "            \n",
    "            if (i == k): # Diagonal elements\n",
    "                # LaTeX: l_{kk} = \\sqrt{ a_{kk} - \\sum^{k-1}_{j=1} l^2_{kj}}\n",
    "                L[i][k] = sqrt(A[i][i] - tmp_sum)\n",
    "            else:\n",
    "                # LaTeX: l_{ik} = \\frac{1}{l_{kk}} \\left( a_{ik} - \\sum^{k-1}_{j=1} l_{ij} l_{kj} \\right)\n",
    "                L[i][k] = (1.0 / L[k][k] * (A[i][k] - tmp_sum))\n",
    "    return L"
   ]
  }
 ],
 "metadata": {
  "kernelspec": {
   "display_name": "Python 2",
   "language": "python",
   "name": "python2"
  },
  "language_info": {
   "codemirror_mode": {
    "name": "ipython",
    "version": 2
   },
   "file_extension": ".py",
   "mimetype": "text/x-python",
   "name": "python",
   "nbconvert_exporter": "python",
   "pygments_lexer": "ipython2",
   "version": "2.7.13"
  }
 },
 "nbformat": 4,
 "nbformat_minor": 0
}
