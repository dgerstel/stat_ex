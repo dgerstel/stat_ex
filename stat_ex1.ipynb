{
 "cells": [
  {
   "cell_type": "markdown",
   "metadata": {},
   "source": [
    "TODO:\n",
    "- scan over N=100, ..., 1000000 to show convergence of covariance matrix\n",
    "- visualise all 6 rows (superimposed Gaussians); draw tables summarising results\n",
    "- mean +- sigma NEW vs ORIGINAL data"
   ]
  },
  {
   "cell_type": "code",
   "execution_count": 1,
   "metadata": {
    "collapsed": true
   },
   "outputs": [],
   "source": [
    "# useful visualisation and numerical tools\n",
    "%matplotlib inline\n",
    "import matplotlib.pyplot as plt\n",
    "import pandas as pd\n",
    "import numpy as np\n",
    "# import seaborn as sns; sns.set();"
   ]
  },
  {
   "cell_type": "markdown",
   "metadata": {
    "collapsed": true
   },
   "source": [
    "### Part 1\n",
    "##### The Box-Muller transform:\n",
    "\n",
    "$\\left\\{\n",
    "    \\begin{array}{ll}\n",
    "        z_1 = \\sqrt{-2\\log{u_1}} \\cos{(2\\pi u_2)} \\\\\n",
    "        z_2 = \\sqrt{-2\\log{u_1}} \\sin{(2\\pi u_2)}, \n",
    "    \\end{array}\n",
    "\\right.$\n",
    "with $u_1, u_2$ ~ U(0,1).\n",
    "\n",
    "**Derivation**\n",
    "\n",
    "Let us denote $y_1 = y_1(u_1) = \\sqrt{-2\\log{u_1}}$, $y_2 = y_2(u_2) = \\cos{(2\\pi u_2)}$, and $y_3 = y_3(u_2) = \\sin{(2\\pi u_2)}$. Then the Box_Muller transform can be expressed as:\n",
    "$\\left\\{\n",
    "    \\begin{array}{ll}\n",
    "        z_1 = y_1(u_1) y_2(u_2) \\\\\n",
    "        z_2 = y_1(u_1) y_3(u_2), \n",
    "    \\end{array}\n",
    "\\right.$\n",
    "with $0 \\leq y_1 \\leq +\\infty$ and $-1 \\leq y_2, y_3 \\leq 1$.\n",
    "\n",
    "Note that $z_1$ and $z_2$ are products of independent random variables (what stems from independence of $u_1$ and $u_2$). Therefore, the *Mellin Convolution* is applicable here and we may compute p.d.f.'s of $z_1$ and $z_2$ as:\n",
    "\n",
    "$$f_{z_1}(z_1) = \\int\\limits_{-\\infty}^{+\\infty} f_{y_1}(y_1) f_{y_2}\\left(\\frac{z_1}{\\left|y_1\\right|}\\right) \\, \\frac{dy_1}{\\left|y_1\\right|} $$\n",
    "\n",
    "$$f_{z_2}(z_2) = \\int\\limits_{-\\infty}^{+\\infty} f_{y_1}(y_1) f_{y_3}\\left(\\frac{z_2}{\\left|y_1\\right|}\\right) \\, \\frac{dy_1}{\\left|y_1\\right|} $$.\n",
    "\n",
    "In order to calculate the above we will derive p.d.f.'s of $y_1$, $y_2$ and $y_3$.\n",
    "To do so we will apply the method of direct transformation of p.d.f., which transforms $f_x(x)$ into $f_y(y)$ with $y=g(x)$ as follows:\n",
    "$$ f_y(y) = \\sum\\limits_{i=1}^{N} \\frac{f_x(x^{(i)}(y))}{\\left|g'(x^{(i)}(y))\\right|},$$\n",
    "with summation over all $N$ real roots of $g(x) = y$.\n",
    "\n",
    "However, if the $g(x)$ is invertible so that $g^{-1}(x) = h(y)$ the formula simplifies to:\n",
    "$$ f_y(y) = f_x\\left(h(y)\\right) \\left|h'(y)\\right|.$$\n",
    "\n",
    "**In the case of $y_1 = y_1(u_1) = \\sqrt{-2\\log{u_1}}$**, which is invertible we apply the above formula:\n",
    "$$ f_y(y_1) = f_{u_1}\\left(h(y_1)\\right) \\left|h'(y_1)\\right|.$$\n",
    "\n",
    "We immediately get $h(y_1) = e^{-\\frac{1}{2}y_1^2}$ and $h'(y_1) = -y_1e^{-\\frac{1}{2}y_1^2}.$\n",
    "Also noting that $f_{u_1}(h_{y_1})$ does not vanish for any $y_1$, because $f_{u_1}(h(y_1)) = 1 \\iff 0 \\leq e^{-\\frac{1}{2}y_1^2} \\leq 1 \\iff y_1^2 \\geq 0 \\iff -\\infty \\leq y_1 \\leq +\\infty$.\n",
    "We obtain:\n",
    "\n",
    "$f_{y_1}(y_1) =         y_1 e^{-\\frac{1}{2}y_1^2} \\mbox{ for } -\\infty \\leq y_1 \\leq +\\infty$.\n",
    "\n",
    "**In the case of $y_2 = y_2(u_2) = \\cos{(2\\pi u_2)}$** we deal with a non-invertible function. The $g(u_2) = \\cos{(2\\pi u_2)}$ has two roots:\n",
    "- $u_2^{(1)} = \\frac{1}{2\\pi} \\arccos{y_2} \\mbox{  with }-1 \\leq y_2 \\leq 1,$\n",
    "- $u_2^{(2)} = 1 - \\frac{1}{2\\pi} \\arccos{y_2} \\mbox{  with } -1 \\leq y_2 \\leq 1.$\n",
    "\n",
    "The both roots yield $f_{u_2}(u_2^{(i)}) = 1$.\n",
    "Computing the derivatives gives $g'(u_2^{(i)}) = -2\\pi\\sin{2\\pi u_2^{(i)}}$ which equals:\n",
    "- $g'(u_2^{(1)}) = -2\\pi\\sin{\\arccos{y_2}} = -2\\pi \\sqrt{1-y_2^2},$\n",
    "- $g'(u_2^{(2)}) = -2\\pi\\sin{2\\pi - \\arccos{y_2}} = 2\\pi \\sqrt{1-y_2^2}$\n",
    "\n",
    "Applying the direct transformation formula we get:\n",
    "\n",
    "$f_{y_2}(y_2) =\n",
    "\\left\\{\n",
    "    \\begin{array}{ll}\n",
    "        \\frac{1}{\\pi \\sqrt{1-y_2^2}} & \\mbox{ for } -1 \\leq y_2 \\leq 1, \\\\\n",
    "        0 & \\mbox{ otherwise}. \n",
    "    \\end{array}\n",
    "\\right.$\n",
    "\n",
    "**In the case of $y_3 = y_3(u_2) = \\sin{2\\pi u_2)}$** we also have a non-invertible function.\n",
    "The roots of  $g(u_2) = \\sin{(2\\pi u_2)}$ are:\n",
    "- $u_2^{(1)} = \\frac{1}{2\\pi} \\arcsin{y_3} \\mbox{ with } -1 \\leq y_3 \\leq 1,$\n",
    "- $u_2^{(2)} = \\frac{1}{2\\pi} \\left( \\pi  - \\arcsin{y_3} \\right) \\mbox{ with } -1 \\leq y_3 \\leq 1.$\n",
    "\n",
    "The both roots yield $f_{u_2}(u_2^{(i)}) = 1$.\n",
    "Computing the derivatives gives $g'(u_2^{(i)}) = 2\\pi\\cos{2\\pi u_2^{(i)}}$ which equals:\n",
    "- $g'(u_2^{(1)}) = 2\\pi\\cos{\\arccos{y_3}} = 2\\pi \\sqrt{1-y_3^2},$\n",
    "- $g'(u_2^{(1)}) = 2\\pi\\cos \\left( {\\pi - \\arccos{y_3}} \\right)= -2\\pi \\sqrt{1-y_3^2}.$\n",
    "\n",
    "Applying the direct transformation formula we get:\n",
    "\n",
    "$f_{y_3}(y_3) = $\n",
    "$\\left\\{\n",
    "    \\begin{array}{ll}\n",
    "        \\frac{1}{\\pi \\sqrt{1-y_3^2}} & \\mbox{ for } -1 \\leq y_3 \\leq 1, \\\\\n",
    "        0 & \\mbox{ otherwise}. \n",
    "    \\end{array}\n",
    "\\right.$\n",
    "\n",
    "Now that we have p.d.f.'s of $y_1$, $y_2$ and $y_3$ we may apply the *Mellin Convolution* as defined at the beginning of this section and get:\n",
    "\n",
    "$$f_{z_1}(z_1) = \\int\\limits_{-\\infty}^{+\\infty} f_{y_1}(y_1) f_{y_2}\\left(\\frac{z_1}{\\left|y_1\\right|}\\right) \\, \\frac{dy_1}{\\left|y_1\\right|} =\n",
    "\\int\\limits_{-\\infty}^{+\\infty} y_1 e^{-\\frac{1}{2}y_1^2}  \\frac{1}{\\pi \\sqrt{1-\\left(\\frac{z_1}{y_1}\\right)^2}} \\, \\frac{dy_1}{\\left|y_1\\right|} =\n",
    "\\int\\limits_{-\\infty}^{+\\infty} e^{-\\frac{1}{2}y_1^2}  \\frac{y_1 dy_1}{\\pi \\sqrt{y_1^2 - z_1^2}}\n",
    "$$\n",
    "\n",
    "\n",
    "Let $p = \\sqrt{y_1^2 - z_1^2}$ and $0 \\leq p \\leq +\\infty \\implies dp = \\frac{y_1 dy_1}{\\sqrt{y_1^2 - z_1^2}}$\n",
    "\n",
    "Then we have:\n",
    "$$f_{z_1}(z_1) = \\frac{1}{\\pi} \\int\\limits_{0}^{+\\infty} e^{-\\frac{1}{2}\\left(p^2+z_1^2\\right)} dp = \n",
    "\\frac{1}{\\pi} e^{-\\frac{1}{2}z_1^2}  \\int\\limits_{0}^{+\\infty} e^{-\\frac{1}{2}p^2} dp\n",
    "= \\frac{1}{2\\pi} e^{-\\frac{1}{2}z_1^2} \\implies f_{z_1}(z_1) \\sim N(0,1)$$\n",
    "\n",
    "\n",
    "$$f_{z_2}(z_2) = \\int\\limits_{-\\infty}^{+\\infty} f_{y_1}(y_1) f_{y_3}\\left(\\frac{z_2}{\\left|y_1\\right|}\\right) \\, \\frac{dy_1}{\\left|y_1\\right|} = \\int\\limits_{-\\infty}^{+\\infty} y_1 e^{-\\frac{1}{2}y_1^2}  \\frac{1}{\\pi \\sqrt{1-\\left(\\frac{z_2}{y_1}\\right)^2}} \\, \\frac{dy_1}{\\left|y_1\\right|} = \\frac{1}{2\\pi} e^{-\\frac{1}{2}z_2^2} \\implies f_{z_2}(z_2) \\sim N(0,1)$$.\n",
    "\n",
    "Having proven that Box-Muller transform indeed generates random variables $\\sim N(0,1)$ let us procede to implementing the transform in the following part."
   ]
  },
  {
   "cell_type": "markdown",
   "metadata": {},
   "source": [
    "### Part 2\n",
    "In order to obtain random variables of generic $\\mu$ and $\\sigma$ it is sufficient to transform $z_1$ and $z_2$ as follows:\n",
    "\n",
    "$\\left\\{\n",
    "    \\begin{array}{ll}\n",
    "        x_1 = z_1 \\sigma_1 + \\mu_1 \\mbox{ where } x_1 \\sim N(\\mu_1, \\sigma_1^2)\\\\\n",
    "        x_2 = z_2 \\sigma_2 + \\mu_2 \\mbox{ where } x_2 \\sim N(\\mu_2, \\sigma_2^2).\n",
    "    \\end{array}\n",
    "\\right.$\n"
   ]
  },
  {
   "cell_type": "markdown",
   "metadata": {},
   "source": [
    "### Part 3\n",
    "\n",
    "The $z_1$ and $z_2$ random variables can be generated by invoking the function below."
   ]
  },
  {
   "cell_type": "code",
   "execution_count": 40,
   "metadata": {
    "collapsed": false
   },
   "outputs": [
    {
     "name": "stdout",
     "output_type": "stream",
     "text": [
      "(2, 1000)\n"
     ]
    }
   ],
   "source": [
    "def get_box_muller(size=1, mus=(0,0), sigs2=(1,1)):\n",
    "    \"\"\"Generate size # of pairs of independent normal random variables of specified mean\n",
    "       (mus) and variance (sigs2) according to the Box-Muller\n",
    "       transform\"\"\"\n",
    "#     np.random.seed(42) ## DEBUG\n",
    "    # ~ U(0,1) sample of shape `size` x 2 (corresponds to u1 and u2)\n",
    "    u = np.random.random_sample((size, 2))\n",
    "    R = np.sqrt(-2 * np.log(u[:, 0]))\n",
    "    z1 = R * np.cos(2 * np.pi * u[:, 1])\n",
    "    z2 = R * np.sin(2 * np.pi * u[:, 1])    \n",
    "#     print z1, z2\n",
    "    return z1 * np.sqrt(sigs2[0]) + mus[0], z2 * np.sqrt(sigs2[1]) + mus[1]\n",
    "    \n",
    "z1, z2 = get_box_muller(1000, mus=(1,1), sigs2=(1,1))\n",
    "zzz = get_box_muller(1000, mus=(1,1), sigs2=(1,1))\n",
    "print np.shape(zzz)"
   ]
  },
  {
   "cell_type": "code",
   "execution_count": 41,
   "metadata": {
    "collapsed": false
   },
   "outputs": [],
   "source": [
    "### Seeding gives same results\n",
    "# np.random.seed(137)\n",
    "# print np.random.random_sample((10,1))\n",
    "# np.random.seed(137)\n",
    "# print np.random.random_sample((10,1))"
   ]
  },
  {
   "cell_type": "markdown",
   "metadata": {},
   "source": [
    "Let us check if this function indeed generates random variables $\\sim N(\\mu, \\sigma^2)$ by histogramming generated data with the next function."
   ]
  },
  {
   "cell_type": "code",
   "execution_count": 42,
   "metadata": {
    "collapsed": false
   },
   "outputs": [
    {
     "data": {
      "image/png": "[encoded data removed]",
      "text/plain": [
       "<matplotlib.figure.Figure at 0x7f05cc0cc5d0>"
      ]
     },
     "metadata": {},
     "output_type": "display_data"
    },
    {
     "name": "stdout",
     "output_type": "stream",
     "text": [
      "mu =  1.00679005152 sigma =  0.979019726155\n"
     ]
    }
   ],
   "source": [
    "def hist(data, Nbins):\n",
    "    \"\"\"Histogram array-like 1-D `data` into `Nbins` # of bins\"\"\"\n",
    "    hist, bins = np.histogram(data, bins=Nbins)\n",
    "    width = 0.7 * (bins[1] - bins[0])  # bar width a bit smaller than bin's (for visual clarity)\n",
    "    center = (bins[:-1] + bins[1:]) / 2  # midpoints of all bins\n",
    "    plt.bar(center, hist, align='center', width=width)  # bar chart depicting the histogram\n",
    "    plt.show()\n",
    "    \n",
    "hist(z2, Nbins=80)\n",
    "print \"mu = \", np.mean(z2), \"sigma = \", np.std(z2)"
   ]
  },
  {
   "cell_type": "markdown",
   "metadata": {},
   "source": [
    "By inspecting the histogram by eye and comparing the computed parameters from the generated sample - we see\n",
    "that our function seems to be consistent with the Box-Muller transform.\n",
    "\n",
    "##### Monte Carlo simulations \n",
    "Now we are to realise $N=100$ MC simulations of a 6-dimensional Gaussian random vector $\\textbf{v}$ with mean\n",
    "$\\mu = (0.5, -0.4, 2.1, 0.2, 3.1, -1.0)$ and a given covariance matrix (specified in the subsequent code)."
   ]
  },
  {
   "cell_type": "code",
   "execution_count": 165,
   "metadata": {
    "collapsed": false
   },
   "outputs": [
    {
     "name": "stdout",
     "output_type": "stream",
     "text": [
      "(array([  1.335e+00,  -6.429e-01,   1.073e+00,   1.591e+00,  -2.627e-01,\n",
      "         2.737e+00,   1.420e-01,   7.503e-01,  -1.524e+00,  -3.319e-01,\n",
      "         6.343e-01,  -1.047e+00,   2.747e-01,  -1.788e+00,   9.800e-01,\n",
      "         4.781e-01,   2.218e+00,   9.488e-02,   1.261e+00,  -8.103e-01,\n",
      "        -2.050e+00,   2.186e+00,  -8.589e-01,  -1.515e+00,   4.374e-01,\n",
      "         3.909e-02,   2.789e-01,   8.945e-01,   7.332e-01,  -1.134e+00,\n",
      "        -1.839e-01,  -3.810e-01,  -1.537e+00,   6.377e-01,   2.271e+00,\n",
      "         2.277e-01,   1.289e+00,  -1.096e-01,   6.441e-01,   1.069e+00,\n",
      "        -3.878e-01,   1.370e+00,  -6.955e-01,  -5.155e-01,  -4.818e-01,\n",
      "        -4.717e-01,  -6.853e-01,  -7.207e-01,  -1.023e+00,   2.111e+00,\n",
      "        -1.722e+00,  -1.519e+00,   1.959e-03,   4.654e-02,   1.520e+00,\n",
      "         8.332e-01,   1.364e-01,   6.606e-01,   2.566e-01,  -4.623e-01,\n",
      "         5.195e-01,   1.166e+00,  -1.542e+00,   4.063e-01,  -3.145e+00,\n",
      "         2.305e-01,  -1.078e+00,  -1.522e-01,  -3.333e-01,   1.400e+00,\n",
      "        -3.098e-03,  -3.715e-01,   1.542e+00,  -9.949e-01,  -4.361e-01,\n",
      "         2.875e-02,  -1.961e+00,   8.484e-03,   6.502e-02,  -2.313e-01,\n",
      "        -9.532e-01,  -9.314e-01,   1.120e+00,   5.857e-01,  -2.128e+00,\n",
      "         8.775e-01,   1.702e-01,   4.283e-01,  -6.512e-01,   2.348e-01,\n",
      "         1.109e+00,   2.839e-01,  -8.822e-01,  -5.975e-01,   5.769e-02,\n",
      "         1.740e+00,  -3.070e-01,  -8.586e-01,   6.388e-01,   9.135e-02]), array([-0.427, -0.459,  1.601, -1.778, -0.974, -0.524,  0.589,  1.687,\n",
      "       -0.239,  1.252,  0.762,  1.168, -1.223, -0.16 ,  0.294,  0.876,\n",
      "       -0.738, -0.247,  0.888,  0.32 ,  0.062, -1.4  , -1.402, -0.192,\n",
      "        1.008, -0.245, -0.217, -0.478,  2.077,  2.215,  1.362,  0.48 ,\n",
      "       -0.422, -1.874, -0.188,  0.682, -2.956, -0.826,  0.323,  0.953,\n",
      "       -0.38 ,  0.578,  1.361, -0.604,  0.085, -2.006, -0.278,  0.028,\n",
      "        0.501,  1.7  , -1.989, -0.082,  0.44 , -1.334,  0.799,  1.335,\n",
      "       -0.357, -0.691,  0.609, -0.117, -0.397,  0.965,  0.76 , -0.487,\n",
      "       -0.213,  1.302,  1.755,  0.307, -1.096, -0.251,  0.277,  1.122,\n",
      "        0.364, -0.017,  2.396,  0.438,  0.13 ,  0.17 , -0.889, -1.679,\n",
      "       -1.045, -0.213, -1.886,  1.39 , -1.367,  0.092,  1.144,  0.832,\n",
      "        0.562,  0.275,  0.959, -0.276, -1.39 , -0.216,  1.126, -1.311,\n",
      "       -0.34 ,  1.194, -0.482, -0.481])) \n",
      "\n",
      "(array([ 0.813,  1.534,  0.998, -1.106,  1.728, -0.391,  0.149,  0.066,\n",
      "       -0.033,  0.542, -0.833, -1.467,  0.062, -0.183, -0.325, -0.678,\n",
      "       -1.048, -0.311,  1.575,  0.414,  0.336, -0.289,  2.6  ,  1.274,\n",
      "        0.164, -1.174, -0.232, -1.765, -0.121,  0.869,  0.984, -1.97 ,\n",
      "       -0.03 , -0.25 , -0.387,  0.24 ,  0.457, -1.158, -0.395,  0.239,\n",
      "       -0.254,  1.162,  1.02 , -1.192, -1.33 ,  2.57 , -0.399, -2.011,\n",
      "        0.154,  0.836, -2.387, -0.721,  0.791, -0.509, -0.088,  1.13 ,\n",
      "        2.637, -0.199,  0.62 , -0.003, -0.242, -0.17 , -0.023, -0.829,\n",
      "        0.019,  0.071,  2.172,  2.401, -0.16 ,  0.998, -1.175, -1.713,\n",
      "       -1.013,  0.915, -0.986,  0.727,  0.475, -1.441, -2.313, -0.312,\n",
      "       -0.855, -1.198, -0.262,  0.233,  1.637,  2.128, -0.888, -0.965,\n",
      "        0.574, -0.127, -0.679,  0.691,  0.259,  0.701,  0.265, -0.118,\n",
      "        0.232,  1.331, -0.498,  0.022]), array([ 0.475, -1.136,  0.058, -1.831,  2.754, -1.023,  0.913,  0.821,\n",
      "       -1.498, -0.754, -0.381,  1.608,  1.628,  0.146, -0.351, -0.011,\n",
      "        0.049, -1.78 ,  0.243,  0.839, -0.1  ,  0.307, -1.257, -0.271,\n",
      "       -0.217,  1.033,  0.518, -0.658, -0.343,  0.608, -0.062, -0.228,\n",
      "       -0.511, -0.812,  1.377, -0.605, -0.277, -0.011, -0.543, -0.807,\n",
      "        0.411,  0.779,  0.234, -0.327, -0.854,  0.614,  0.481, -0.283,\n",
      "        0.706,  0.497, -0.476, -0.843, -0.121,  1.031,  0.671,  0.607,\n",
      "       -0.63 , -0.564,  1.185,  1.926, -1.068,  0.895, -0.303, -0.701,\n",
      "        1.318, -1.436,  1.941,  0.628, -0.535,  0.705,  0.198,  0.756,\n",
      "       -0.902,  0.268, -0.996, -0.919,  0.78 , -1.796, -1.383, -0.16 ,\n",
      "       -1.078, -0.353,  0.228, -0.158,  0.762,  0.245, -1.983,  2.086,\n",
      "        0.085,  0.628, -1.952, -0.67 , -0.741,  1.429, -0.71 ,  0.072,\n",
      "       -1.387, -0.618,  0.238, -0.757])) \n",
      "\n",
      "(array([ 1.744,  0.54 ,  1.196,  1.371,  0.375,  1.437, -0.285, -0.908,\n",
      "       -0.743,  0.013,  0.168, -2.187, -2.275,  0.973,  1.073,  0.143,\n",
      "        0.789, -0.675,  0.999,  0.727,  2.213, -0.964,  0.609,  0.004,\n",
      "        1.21 , -0.663,  1.089, -2.094, -2.935,  1.761, -1.225, -0.663,\n",
      "       -0.196,  1.073,  1.685,  2.917,  1.943,  1.13 , -2.154, -0.247,\n",
      "       -0.322, -0.874,  0.843, -0.481,  0.246, -0.913,  0.607, -0.75 ,\n",
      "        0.916,  0.227, -0.826,  0.598,  0.454,  0.19 , -0.049, -0.861,\n",
      "        0.249,  2.454,  0.519,  0.094, -0.748,  0.135, -0.582, -0.194,\n",
      "        1.583,  0.644, -0.077,  0.682,  0.01 ,  0.869, -0.241, -0.811,\n",
      "       -0.616, -0.987,  0.16 ,  0.685, -1.011, -0.422,  1.972, -0.545,\n",
      "        0.193,  1.988, -1.223, -1.264, -0.26 ,  0.242, -0.979,  0.517,\n",
      "        1.753, -0.062,  1.238, -0.565,  0.059,  1.566,  1.172, -1.258,\n",
      "       -1.044, -0.461,  0.422,  1.756]), array([ -1.225e+00,  -1.036e+00,  -9.213e-01,   9.348e-02,   2.419e-01,\n",
      "        -4.664e-01,  -1.417e-01,   3.050e-01,   1.379e+00,  -8.907e-01,\n",
      "        -6.626e-01,   7.671e-02,  -7.317e-01,  -8.292e-01,   9.711e-01,\n",
      "        -1.967e+00,   5.820e-01,  -2.120e+00,  -2.060e+00,   4.080e-01,\n",
      "        -1.862e-01,   1.018e+00,  -2.095e-01,  -1.679e-01,   7.004e-01,\n",
      "        -2.548e-01,  -7.268e-01,   9.709e-02,   5.855e-01,   1.629e+00,\n",
      "        -1.668e+00,  -3.829e-01,   1.965e-01,  -1.163e+00,  -3.964e-01,\n",
      "        -5.587e-01,  -1.584e+00,  -4.996e-02,  -7.579e-01,  -3.611e-02,\n",
      "        -9.069e-01,  -9.021e-01,  -6.032e-01,   2.440e+00,  -2.029e-01,\n",
      "        -8.591e-01,   1.482e+00,   9.874e-01,   4.869e-01,  -1.971e-02,\n",
      "        -1.906e-01,  -1.410e+00,   7.424e-01,  -3.879e-01,  -3.172e-01,\n",
      "         4.858e-01,  -2.783e-01,   4.104e-01,  -1.298e+00,   1.297e-01,\n",
      "         6.944e-01,  -2.069e-01,   1.161e-01,   1.312e+00,  -1.802e+00,\n",
      "        -1.142e-03,  -2.801e-02,  -2.465e-01,   5.708e-01,   9.159e-01,\n",
      "        -1.898e-01,  -1.514e+00,   7.629e-01,  -1.838e+00,  -1.132e+00,\n",
      "        -9.157e-01,  -4.073e-01,   2.924e-01,   3.606e-01,  -5.141e-01,\n",
      "         8.151e-01,   1.822e-01,  -7.752e-01,   5.238e-01,   3.660e-01,\n",
      "        -1.128e+00,  -9.440e-01,  -1.697e-01,  -8.715e-01,   1.189e+00,\n",
      "        -1.561e-01,   1.047e+00,   9.538e-01,   1.645e+00,   1.654e+00,\n",
      "        -1.538e+00,   1.523e+00,   7.602e-02,   7.941e-01,   4.612e-01]))\n"
     ]
    },
    {
     "data": {
      "text/plain": [
       "(2, 100)"
      ]
     },
     "execution_count": 165,
     "metadata": {},
     "output_type": "execute_result"
    }
   ],
   "source": [
    "N = 100  # no. of MC samples\n",
    "mu_list = [0.5, -0.4, 2.1, 0.2, 3.1, -1.0]\n",
    "# mu_list = [0, 0, 0, 0, 0, 0]\n",
    "# sig2_list = [0.09, 0.04, 2.25, 0.09, 0.64, 0.09]\n",
    "# sig2_list = [1, 1, 1, 1, 1, 1]\n",
    "# v1 = get_box_muller(N, mus=(mu_list[0], mu_list[1]), sigs2=(sig2_list[0], sig2_list[1]))\n",
    "# v2 = get_box_muller(N, mus=(mu_list[2], mu_list[3]), sigs2=(sig2_list[2], sig2_list[3]))\n",
    "# v3 = get_box_muller(N, mus=(mu_list[4], mu_list[5]), sigs2=(sig2_list[4], sig2_list[5]))\n",
    "\n",
    "# get 2 independent vectors (rows) from Box-Muller\n",
    "# reshaping does ()\n",
    "# v1 = np.reshape(get_box_muller(N), (2, .5*N))\n",
    "np.random.seed(42) ## DEBUG\n",
    "v1 = get_box_muller(N)\n",
    "# v1 = np.reshape(v1)\n",
    "v2 = get_box_muller(N)\n",
    "v3 = get_box_muller(N)\n",
    "print v1,'\\n\\n',v2,'\\n\\n',v3\n",
    "np.shape(v1)"
   ]
  },
  {
   "cell_type": "code",
   "execution_count": 166,
   "metadata": {
    "collapsed": false,
    "scrolled": true
   },
   "outputs": [
    {
     "name": "stdout",
     "output_type": "stream",
     "text": [
      "(array([  1.335e+00,  -6.429e-01,   1.073e+00,   1.591e+00,  -2.627e-01,\n",
      "         2.737e+00,   1.420e-01,   7.503e-01,  -1.524e+00,  -3.319e-01,\n",
      "         6.343e-01,  -1.047e+00,   2.747e-01,  -1.788e+00,   9.800e-01,\n",
      "         4.781e-01,   2.218e+00,   9.488e-02,   1.261e+00,  -8.103e-01,\n",
      "        -2.050e+00,   2.186e+00,  -8.589e-01,  -1.515e+00,   4.374e-01,\n",
      "         3.909e-02,   2.789e-01,   8.945e-01,   7.332e-01,  -1.134e+00,\n",
      "        -1.839e-01,  -3.810e-01,  -1.537e+00,   6.377e-01,   2.271e+00,\n",
      "         2.277e-01,   1.289e+00,  -1.096e-01,   6.441e-01,   1.069e+00,\n",
      "        -3.878e-01,   1.370e+00,  -6.955e-01,  -5.155e-01,  -4.818e-01,\n",
      "        -4.717e-01,  -6.853e-01,  -7.207e-01,  -1.023e+00,   2.111e+00,\n",
      "        -1.722e+00,  -1.519e+00,   1.959e-03,   4.654e-02,   1.520e+00,\n",
      "         8.332e-01,   1.364e-01,   6.606e-01,   2.566e-01,  -4.623e-01,\n",
      "         5.195e-01,   1.166e+00,  -1.542e+00,   4.063e-01,  -3.145e+00,\n",
      "         2.305e-01,  -1.078e+00,  -1.522e-01,  -3.333e-01,   1.400e+00,\n",
      "        -3.098e-03,  -3.715e-01,   1.542e+00,  -9.949e-01,  -4.361e-01,\n",
      "         2.875e-02,  -1.961e+00,   8.484e-03,   6.502e-02,  -2.313e-01,\n",
      "        -9.532e-01,  -9.314e-01,   1.120e+00,   5.857e-01,  -2.128e+00,\n",
      "         8.775e-01,   1.702e-01,   4.283e-01,  -6.512e-01,   2.348e-01,\n",
      "         1.109e+00,   2.839e-01,  -8.822e-01,  -5.975e-01,   5.769e-02,\n",
      "         1.740e+00,  -3.070e-01,  -8.586e-01,   6.388e-01,   9.135e-02]), array([-0.427, -0.459,  1.601, -1.778, -0.974, -0.524,  0.589,  1.687,\n",
      "       -0.239,  1.252,  0.762,  1.168, -1.223, -0.16 ,  0.294,  0.876,\n",
      "       -0.738, -0.247,  0.888,  0.32 ,  0.062, -1.4  , -1.402, -0.192,\n",
      "        1.008, -0.245, -0.217, -0.478,  2.077,  2.215,  1.362,  0.48 ,\n",
      "       -0.422, -1.874, -0.188,  0.682, -2.956, -0.826,  0.323,  0.953,\n",
      "       -0.38 ,  0.578,  1.361, -0.604,  0.085, -2.006, -0.278,  0.028,\n",
      "        0.501,  1.7  , -1.989, -0.082,  0.44 , -1.334,  0.799,  1.335,\n",
      "       -0.357, -0.691,  0.609, -0.117, -0.397,  0.965,  0.76 , -0.487,\n",
      "       -0.213,  1.302,  1.755,  0.307, -1.096, -0.251,  0.277,  1.122,\n",
      "        0.364, -0.017,  2.396,  0.438,  0.13 ,  0.17 , -0.889, -1.679,\n",
      "       -1.045, -0.213, -1.886,  1.39 , -1.367,  0.092,  1.144,  0.832,\n",
      "        0.562,  0.275,  0.959, -0.276, -1.39 , -0.216,  1.126, -1.311,\n",
      "       -0.34 ,  1.194, -0.482, -0.481]))\n",
      "shape:  (2, 100)\n",
      "[[  1.335e+00  -6.429e-01   1.073e+00   1.591e+00  -2.627e-01   2.737e+00\n",
      "    1.420e-01   7.503e-01  -1.524e+00  -3.319e-01   6.343e-01  -1.047e+00\n",
      "    2.747e-01  -1.788e+00   9.800e-01   4.781e-01   2.218e+00   9.488e-02\n",
      "    1.261e+00  -8.103e-01  -2.050e+00   2.186e+00  -8.589e-01  -1.515e+00\n",
      "    4.374e-01   3.909e-02   2.789e-01   8.945e-01   7.332e-01  -1.134e+00\n",
      "   -1.839e-01  -3.810e-01  -1.537e+00   6.377e-01   2.271e+00   2.277e-01\n",
      "    1.289e+00  -1.096e-01   6.441e-01   1.069e+00  -3.878e-01   1.370e+00\n",
      "   -6.955e-01  -5.155e-01  -4.818e-01  -4.717e-01  -6.853e-01  -7.207e-01\n",
      "   -1.023e+00   2.111e+00  -1.722e+00  -1.519e+00   1.959e-03   4.654e-02\n",
      "    1.520e+00   8.332e-01   1.364e-01   6.606e-01   2.566e-01  -4.623e-01\n",
      "    5.195e-01   1.166e+00  -1.542e+00   4.063e-01  -3.145e+00   2.305e-01\n",
      "   -1.078e+00  -1.522e-01  -3.333e-01   1.400e+00  -3.098e-03  -3.715e-01\n",
      "    1.542e+00  -9.949e-01  -4.361e-01   2.875e-02  -1.961e+00   8.484e-03\n",
      "    6.502e-02  -2.313e-01  -9.532e-01  -9.314e-01   1.120e+00   5.857e-01\n",
      "   -2.128e+00   8.775e-01   1.702e-01   4.283e-01  -6.512e-01   2.348e-01\n",
      "    1.109e+00   2.839e-01  -8.822e-01  -5.975e-01   5.769e-02   1.740e+00\n",
      "   -3.070e-01  -8.586e-01   6.388e-01   9.135e-02]\n",
      " [ -4.271e-01  -4.589e-01   1.601e+00  -1.778e+00  -9.741e-01  -5.238e-01\n",
      "    5.887e-01   1.687e+00  -2.390e-01   1.252e+00   7.617e-01   1.168e+00\n",
      "   -1.223e+00  -1.603e-01   2.944e-01   8.764e-01  -7.380e-01  -2.469e-01\n",
      "    8.880e-01   3.199e-01   6.215e-02  -1.400e+00  -1.402e+00  -1.920e-01\n",
      "    1.008e+00  -2.455e-01  -2.168e-01  -4.781e-01   2.077e+00   2.215e+00\n",
      "    1.362e+00   4.802e-01  -4.224e-01  -1.874e+00  -1.875e-01   6.820e-01\n",
      "   -2.956e+00  -8.257e-01   3.233e-01   9.531e-01  -3.796e-01   5.783e-01\n",
      "    1.361e+00  -6.040e-01   8.498e-02  -2.006e+00  -2.777e-01   2.811e-02\n",
      "    5.008e-01   1.700e+00  -1.989e+00  -8.189e-02   4.404e-01  -1.334e+00\n",
      "    7.987e-01   1.335e+00  -3.566e-01  -6.906e-01   6.093e-01  -1.167e-01\n",
      "   -3.973e-01   9.653e-01   7.604e-01  -4.865e-01  -2.127e-01   1.302e+00\n",
      "    1.755e+00   3.073e-01  -1.096e+00  -2.509e-01   2.767e-01   1.122e+00\n",
      "    3.640e-01  -1.675e-02   2.396e+00   4.377e-01   1.302e-01   1.698e-01\n",
      "   -8.890e-01  -1.679e+00  -1.045e+00  -2.130e-01  -1.886e+00   1.390e+00\n",
      "   -1.367e+00   9.179e-02   1.144e+00   8.325e-01   5.616e-01   2.750e-01\n",
      "    9.594e-01  -2.757e-01  -1.390e+00  -2.160e-01   1.126e+00  -1.311e+00\n",
      "   -3.399e-01   1.194e+00  -4.821e-01  -4.809e-01]]\n",
      "shape:  (2, 100)\n"
     ]
    }
   ],
   "source": [
    "print v1\n",
    "print 'shape: ', np.shape(v1)\n",
    "v1 = np.reshape(v1, (2,np.shape(v1)[1]))\n",
    "print v1\n",
    "print 'shape: ', np.shape(v1)"
   ]
  },
  {
   "cell_type": "code",
   "execution_count": 167,
   "metadata": {
    "collapsed": false,
    "scrolled": true
   },
   "outputs": [
    {
     "name": "stdout",
     "output_type": "stream",
     "text": [
      "[[  1.335e+00  -6.429e-01   1.073e+00   1.591e+00  -2.627e-01   2.737e+00\n",
      "    1.420e-01   7.503e-01  -1.524e+00  -3.319e-01   6.343e-01  -1.047e+00\n",
      "    2.747e-01  -1.788e+00   9.800e-01   4.781e-01   2.218e+00   9.488e-02\n",
      "    1.261e+00  -8.103e-01  -2.050e+00   2.186e+00  -8.589e-01  -1.515e+00\n",
      "    4.374e-01   3.909e-02   2.789e-01   8.945e-01   7.332e-01  -1.134e+00\n",
      "   -1.839e-01  -3.810e-01  -1.537e+00   6.377e-01   2.271e+00   2.277e-01\n",
      "    1.289e+00  -1.096e-01   6.441e-01   1.069e+00  -3.878e-01   1.370e+00\n",
      "   -6.955e-01  -5.155e-01  -4.818e-01  -4.717e-01  -6.853e-01  -7.207e-01\n",
      "   -1.023e+00   2.111e+00  -1.722e+00  -1.519e+00   1.959e-03   4.654e-02\n",
      "    1.520e+00   8.332e-01   1.364e-01   6.606e-01   2.566e-01  -4.623e-01\n",
      "    5.195e-01   1.166e+00  -1.542e+00   4.063e-01  -3.145e+00   2.305e-01\n",
      "   -1.078e+00  -1.522e-01  -3.333e-01   1.400e+00  -3.098e-03  -3.715e-01\n",
      "    1.542e+00  -9.949e-01  -4.361e-01   2.875e-02  -1.961e+00   8.484e-03\n",
      "    6.502e-02  -2.313e-01  -9.532e-01  -9.314e-01   1.120e+00   5.857e-01\n",
      "   -2.128e+00   8.775e-01   1.702e-01   4.283e-01  -6.512e-01   2.348e-01\n",
      "    1.109e+00   2.839e-01  -8.822e-01  -5.975e-01   5.769e-02   1.740e+00\n",
      "   -3.070e-01  -8.586e-01   6.388e-01   9.135e-02]\n",
      " [ -4.271e-01  -4.589e-01   1.601e+00  -1.778e+00  -9.741e-01  -5.238e-01\n",
      "    5.887e-01   1.687e+00  -2.390e-01   1.252e+00   7.617e-01   1.168e+00\n",
      "   -1.223e+00  -1.603e-01   2.944e-01   8.764e-01  -7.380e-01  -2.469e-01\n",
      "    8.880e-01   3.199e-01   6.215e-02  -1.400e+00  -1.402e+00  -1.920e-01\n",
      "    1.008e+00  -2.455e-01  -2.168e-01  -4.781e-01   2.077e+00   2.215e+00\n",
      "    1.362e+00   4.802e-01  -4.224e-01  -1.874e+00  -1.875e-01   6.820e-01\n",
      "   -2.956e+00  -8.257e-01   3.233e-01   9.531e-01  -3.796e-01   5.783e-01\n",
      "    1.361e+00  -6.040e-01   8.498e-02  -2.006e+00  -2.777e-01   2.811e-02\n",
      "    5.008e-01   1.700e+00  -1.989e+00  -8.189e-02   4.404e-01  -1.334e+00\n",
      "    7.987e-01   1.335e+00  -3.566e-01  -6.906e-01   6.093e-01  -1.167e-01\n",
      "   -3.973e-01   9.653e-01   7.604e-01  -4.865e-01  -2.127e-01   1.302e+00\n",
      "    1.755e+00   3.073e-01  -1.096e+00  -2.509e-01   2.767e-01   1.122e+00\n",
      "    3.640e-01  -1.675e-02   2.396e+00   4.377e-01   1.302e-01   1.698e-01\n",
      "   -8.890e-01  -1.679e+00  -1.045e+00  -2.130e-01  -1.886e+00   1.390e+00\n",
      "   -1.367e+00   9.179e-02   1.144e+00   8.325e-01   5.616e-01   2.750e-01\n",
      "    9.594e-01  -2.757e-01  -1.390e+00  -2.160e-01   1.126e+00  -1.311e+00\n",
      "   -3.399e-01   1.194e+00  -4.821e-01  -4.809e-01]\n",
      " [  8.129e-01   1.534e+00   9.985e-01  -1.106e+00   1.728e+00  -3.911e-01\n",
      "    1.489e-01   6.594e-02  -3.303e-02   5.423e-01  -8.325e-01  -1.467e+00\n",
      "    6.151e-02  -1.831e-01  -3.247e-01  -6.776e-01  -1.048e+00  -3.113e-01\n",
      "    1.575e+00   4.137e-01   3.358e-01  -2.891e-01   2.600e+00   1.274e+00\n",
      "    1.642e-01  -1.174e+00  -2.318e-01  -1.765e+00  -1.208e-01   8.686e-01\n",
      "    9.841e-01  -1.970e+00  -2.965e-02  -2.499e-01  -3.869e-01   2.399e-01\n",
      "    4.567e-01  -1.158e+00  -3.947e-01   2.387e-01  -2.535e-01   1.162e+00\n",
      "    1.020e+00  -1.192e+00  -1.330e+00   2.570e+00  -3.989e-01  -2.011e+00\n",
      "    1.541e-01   8.364e-01  -2.387e+00  -7.207e-01   7.909e-01  -5.088e-01\n",
      "   -8.836e-02   1.130e+00   2.637e+00  -1.993e-01   6.198e-01  -2.940e-03\n",
      "   -2.415e-01  -1.704e-01  -2.309e-02  -8.294e-01   1.879e-02   7.083e-02\n",
      "    2.172e+00   2.401e+00  -1.604e-01   9.980e-01  -1.175e+00  -1.713e+00\n",
      "   -1.013e+00   9.145e-01  -9.855e-01   7.270e-01   4.753e-01  -1.441e+00\n",
      "   -2.313e+00  -3.123e-01  -8.548e-01  -1.198e+00  -2.621e-01   2.331e-01\n",
      "    1.637e+00   2.128e+00  -8.877e-01  -9.654e-01   5.744e-01  -1.274e-01\n",
      "   -6.788e-01   6.915e-01   2.587e-01   7.005e-01   2.648e-01  -1.178e-01\n",
      "    2.323e-01   1.331e+00  -4.985e-01   2.160e-02]\n",
      " [  4.748e-01  -1.136e+00   5.776e-02  -1.831e+00   2.754e+00  -1.023e+00\n",
      "    9.129e-01   8.213e-01  -1.498e+00  -7.541e-01  -3.810e-01   1.608e+00\n",
      "    1.628e+00   1.456e-01  -3.508e-01  -1.123e-02   4.929e-02  -1.780e+00\n",
      "    2.426e-01   8.393e-01  -1.000e-01   3.072e-01  -1.257e+00  -2.709e-01\n",
      "   -2.172e-01   1.033e+00   5.183e-01  -6.582e-01  -3.426e-01   6.079e-01\n",
      "   -6.158e-02  -2.278e-01  -5.107e-01  -8.121e-01   1.377e+00  -6.046e-01\n",
      "   -2.769e-01  -1.103e-02  -5.429e-01  -8.067e-01   4.108e-01   7.792e-01\n",
      "    2.344e-01  -3.274e-01  -8.542e-01   6.143e-01   4.811e-01  -2.830e-01\n",
      "    7.064e-01   4.971e-01  -4.765e-01  -8.430e-01  -1.209e-01   1.031e+00\n",
      "    6.712e-01   6.073e-01  -6.304e-01  -5.644e-01   1.185e+00   1.926e+00\n",
      "   -1.068e+00   8.952e-01  -3.030e-01  -7.014e-01   1.318e+00  -1.436e+00\n",
      "    1.941e+00   6.281e-01  -5.353e-01   7.045e-01   1.977e-01   7.561e-01\n",
      "   -9.025e-01   2.676e-01  -9.962e-01  -9.194e-01   7.804e-01  -1.796e+00\n",
      "   -1.383e+00  -1.603e-01  -1.078e+00  -3.532e-01   2.279e-01  -1.576e-01\n",
      "    7.624e-01   2.447e-01  -1.983e+00   2.086e+00   8.460e-02   6.279e-01\n",
      "   -1.952e+00  -6.703e-01  -7.407e-01   1.429e+00  -7.097e-01   7.209e-02\n",
      "   -1.387e+00  -6.184e-01   2.384e-01  -7.567e-01]\n",
      " [  1.744e+00   5.400e-01   1.196e+00   1.371e+00   3.745e-01   1.437e+00\n",
      "   -2.850e-01  -9.084e-01  -7.431e-01   1.329e-02   1.684e-01  -2.187e+00\n",
      "   -2.275e+00   9.734e-01   1.073e+00   1.425e-01   7.893e-01  -6.747e-01\n",
      "    9.989e-01   7.274e-01   2.213e+00  -9.638e-01   6.088e-01   3.564e-03\n",
      "    1.210e+00  -6.628e-01   1.089e+00  -2.094e+00  -2.935e+00   1.761e+00\n",
      "   -1.225e+00  -6.628e-01  -1.962e-01   1.073e+00   1.685e+00   2.917e+00\n",
      "    1.943e+00   1.130e+00  -2.154e+00  -2.471e-01  -3.217e-01  -8.736e-01\n",
      "    8.431e-01  -4.807e-01   2.461e-01  -9.133e-01   6.071e-01  -7.497e-01\n",
      "    9.164e-01   2.269e-01  -8.260e-01   5.976e-01   4.542e-01   1.901e-01\n",
      "   -4.877e-02  -8.610e-01   2.487e-01   2.454e+00   5.191e-01   9.373e-02\n",
      "   -7.478e-01   1.352e-01  -5.824e-01  -1.944e-01   1.583e+00   6.437e-01\n",
      "   -7.715e-02   6.816e-01   9.511e-03   8.693e-01  -2.410e-01  -8.115e-01\n",
      "   -6.165e-01  -9.868e-01   1.598e-01   6.847e-01  -1.011e+00  -4.216e-01\n",
      "    1.972e+00  -5.453e-01   1.932e-01   1.988e+00  -1.223e+00  -1.264e+00\n",
      "   -2.599e-01   2.421e-01  -9.792e-01   5.171e-01   1.753e+00  -6.166e-02\n",
      "    1.238e+00  -5.651e-01   5.913e-02   1.566e+00   1.172e+00  -1.258e+00\n",
      "   -1.044e+00  -4.605e-01   4.216e-01   1.756e+00]\n",
      " [ -1.225e+00  -1.036e+00  -9.213e-01   9.348e-02   2.419e-01  -4.664e-01\n",
      "   -1.417e-01   3.050e-01   1.379e+00  -8.907e-01  -6.626e-01   7.671e-02\n",
      "   -7.317e-01  -8.292e-01   9.711e-01  -1.967e+00   5.820e-01  -2.120e+00\n",
      "   -2.060e+00   4.080e-01  -1.862e-01   1.018e+00  -2.095e-01  -1.679e-01\n",
      "    7.004e-01  -2.548e-01  -7.268e-01   9.709e-02   5.855e-01   1.629e+00\n",
      "   -1.668e+00  -3.829e-01   1.965e-01  -1.163e+00  -3.964e-01  -5.587e-01\n",
      "   -1.584e+00  -4.996e-02  -7.579e-01  -3.611e-02  -9.069e-01  -9.021e-01\n",
      "   -6.032e-01   2.440e+00  -2.029e-01  -8.591e-01   1.482e+00   9.874e-01\n",
      "    4.869e-01  -1.971e-02  -1.906e-01  -1.410e+00   7.424e-01  -3.879e-01\n",
      "   -3.172e-01   4.858e-01  -2.783e-01   4.104e-01  -1.298e+00   1.297e-01\n",
      "    6.944e-01  -2.069e-01   1.161e-01   1.312e+00  -1.802e+00  -1.142e-03\n",
      "   -2.801e-02  -2.465e-01   5.708e-01   9.159e-01  -1.898e-01  -1.514e+00\n",
      "    7.629e-01  -1.838e+00  -1.132e+00  -9.157e-01  -4.073e-01   2.924e-01\n",
      "    3.606e-01  -5.141e-01   8.151e-01   1.822e-01  -7.752e-01   5.238e-01\n",
      "    3.660e-01  -1.128e+00  -9.440e-01  -1.697e-01  -8.715e-01   1.189e+00\n",
      "   -1.561e-01   1.047e+00   9.538e-01   1.645e+00   1.654e+00  -1.538e+00\n",
      "    1.523e+00   7.602e-02   7.941e-01   4.612e-01]]\n",
      "(6, 100)\n"
     ]
    }
   ],
   "source": [
    "v = np.concatenate((v1, v2, v3), axis=0)\n",
    "print v\n",
    "print np.shape(v)\n"
   ]
  },
  {
   "cell_type": "markdown",
   "metadata": {
    "collapsed": false
   },
   "source": []
  },
  {
   "cell_type": "code",
   "execution_count": 168,
   "metadata": {
    "collapsed": false
   },
   "outputs": [
    {
     "name": "stdout",
     "output_type": "stream",
     "text": [
      "0.0349988937824 0.0475841717684\n",
      "1.15572443244 1.06291996479\n"
     ]
    }
   ],
   "source": [
    "print np.mean(v[0, :]), np.mean(v[1, :])\n",
    "print np.var(v[0, :]), np.var(v[1, :])"
   ]
  },
  {
   "cell_type": "code",
   "execution_count": 169,
   "metadata": {
    "collapsed": false
   },
   "outputs": [],
   "source": [
    "#TODO: delete it!\n",
    "# def check()\n",
    "# Let's check if the generated vector has indeed correct mean and variance\n",
    "# epsilon = 1e-2\n",
    "# print 'Checking if the vector v has expected parameters:'\n",
    "# for row in range(6):\n",
    "#     print ( ((mu_list[row] - np.mean(v[row, :])) )**2 < epsilon) #/ mu_list[row]) ** 2 )#< epsilon )\n",
    "#     print ( ((sig2_list[row] - np.var(v[row, :])) ) )#**2 )#< epsilon) #/ sig_list[row]) ** 2 )#< epsilon )    "
   ]
  },
  {
   "cell_type": "code",
   "execution_count": 170,
   "metadata": {
    "collapsed": false,
    "scrolled": true
   },
   "outputs": [],
   "source": [
    "# Let's visualise obtained distributions of 6 components of v\n",
    "# plt.hist(v[0], bins=np.linspace(-2,2,100), normed=True, alpha=0.5, label='v0')\n"
   ]
  },
  {
   "cell_type": "code",
   "execution_count": 172,
   "metadata": {
    "collapsed": false,
    "scrolled": true
   },
   "outputs": [
    {
     "name": "stdout",
     "output_type": "stream",
     "text": [
      "Demanded covariance matrix C:\n",
      "[[  9.000e-02   2.200e-02   6.100e-02   4.000e-03   4.000e-03   1.000e-03]\n",
      " [  2.200e-02   4.000e-02   1.104e-01   8.000e-03   8.000e-03   1.000e-03]\n",
      " [  6.100e-02   1.104e-01   2.250e+00   1.650e-01   1.620e-01   2.200e-02]\n",
      " [  4.000e-03   8.000e-03   1.650e-01   9.000e-02   8.800e-02   1.200e-02]\n",
      " [  4.000e-03   8.000e-03   1.620e-01   8.800e-02   6.400e-01   8.800e-02]\n",
      " [  1.000e-03   1.000e-03   2.200e-02   1.200e-02   8.800e-02   9.000e-02]] \n",
      "\n",
      "New data: \n",
      "[[  9.004e-01   3.071e-01   8.220e-01   9.773e-01   4.212e-01   1.321e+00\n",
      "    5.426e-01   7.251e-01   4.278e-02   4.004e-01   6.903e-01   1.858e-01\n",
      "    5.824e-01  -3.636e-02   7.940e-01   6.434e-01   1.165e+00   5.285e-01\n",
      "    8.782e-01   2.569e-01  -1.150e-01   1.156e+00   2.423e-01   4.557e-02\n",
      "    6.312e-01   5.117e-01   5.837e-01   7.683e-01   7.199e-01   1.597e-01\n",
      "    4.448e-01   3.857e-01   3.905e-02   6.913e-01   1.181e+00   5.683e-01\n",
      "    8.868e-01   4.671e-01   6.932e-01   8.208e-01   3.837e-01   9.111e-01\n",
      "    2.914e-01   3.454e-01   3.555e-01   3.585e-01   2.944e-01   2.838e-01\n",
      "    1.931e-01   1.133e+00  -1.663e-02   4.426e-02   5.006e-01   5.140e-01\n",
      "    9.561e-01   7.499e-01   5.409e-01   6.982e-01   5.770e-01   3.613e-01\n",
      "    6.559e-01   8.498e-01   3.726e-02   6.219e-01  -4.436e-01   5.691e-01\n",
      "    1.767e-01   4.543e-01   4.000e-01   9.200e-01   4.991e-01   3.886e-01\n",
      "    9.627e-01   2.015e-01   3.692e-01   5.086e-01  -8.838e-02   5.025e-01\n",
      "    5.195e-01   4.306e-01   2.140e-01   2.206e-01   8.360e-01   6.757e-01\n",
      "   -1.385e-01   7.633e-01   5.511e-01   6.285e-01   3.046e-01   5.704e-01\n",
      "    8.328e-01   5.852e-01   2.353e-01   3.207e-01   5.173e-01   1.022e+00\n",
      "    4.079e-01   2.424e-01   6.917e-01   5.274e-01]\n",
      " [ -3.816e-01  -5.325e-01  -2.338e-02  -6.141e-01  -6.005e-01  -2.967e-01\n",
      "   -2.800e-01  -3.105e-02  -5.562e-01  -1.913e-01  -2.118e-01  -2.595e-01\n",
      "   -6.073e-01  -5.609e-01  -2.733e-01  -2.019e-01  -3.746e-01  -4.390e-01\n",
      "   -1.423e-01  -3.999e-01  -5.388e-01  -5.003e-01  -7.239e-01  -5.468e-01\n",
      "   -1.803e-01  -4.428e-01  -4.199e-01  -4.234e-01   4.015e-02  -7.107e-02\n",
      "   -1.600e-01  -3.386e-01  -5.913e-01  -7.020e-01  -2.684e-01  -2.564e-01\n",
      "   -8.554e-01  -5.617e-01  -2.926e-01  -1.442e-01  -4.991e-01  -1.919e-01\n",
      "   -1.978e-01  -5.502e-01  -4.195e-01  -8.079e-01  -5.019e-01  -4.476e-01\n",
      "   -3.818e-01   7.105e-02  -8.963e-01  -5.266e-01  -3.179e-01  -6.448e-01\n",
      "   -1.399e-01  -9.042e-02  -4.564e-01  -4.801e-01  -2.678e-01  -4.556e-01\n",
      "   -4.358e-01  -1.349e-01  -3.716e-01  -4.607e-01  -6.702e-01  -1.409e-01\n",
      "   -1.524e-01  -3.540e-01  -6.284e-01  -3.440e-01  -3.487e-01  -2.184e-01\n",
      "   -2.192e-01  -4.761e-01   1.393e-02  -3.164e-01  -5.196e-01  -3.678e-01\n",
      "   -5.607e-01  -7.295e-01  -6.643e-01  -5.079e-01  -6.687e-01  -9.849e-02\n",
      "   -8.105e-01  -3.186e-01  -1.746e-01  -2.137e-01  -3.433e-01  -3.316e-01\n",
      "   -1.401e-01  -4.305e-01  -7.233e-01  -4.840e-01  -1.863e-01  -5.164e-01\n",
      "   -4.858e-01  -2.408e-01  -4.429e-01  -4.828e-01]\n",
      " [  3.286e+00   3.874e+00   4.533e+00  -3.175e-02   3.957e+00   1.842e+00\n",
      "    2.639e+00   3.210e+00   1.621e+00   3.432e+00   1.459e+00   4.405e-01\n",
      "    1.614e+00   1.399e+00   1.997e+00   1.702e+00   7.110e-01   1.558e+00\n",
      "    5.009e+00   2.676e+00   2.183e+00   1.423e+00   4.832e+00   3.470e+00\n",
      "    2.935e+00   3.451e-01   1.722e+00  -4.257e-01   3.146e+00   4.218e+00\n",
      "    4.134e+00  -4.781e-01   1.529e+00   9.193e-01   1.926e+00   2.831e+00\n",
      "    1.482e+00   3.865e-02   1.846e+00   3.140e+00   1.473e+00   4.297e+00\n",
      "    4.080e+00   2.221e-02   1.900e-01   4.558e+00   1.262e+00  -8.376e-01\n",
      "    2.364e+00   4.568e+00  -2.600e+00   7.440e-01   3.430e+00   7.153e-01\n",
      "    2.696e+00   4.531e+00   5.622e+00   1.602e+00   3.329e+00   1.942e+00\n",
      "    1.665e+00   2.595e+00   2.144e+00   7.761e-01   1.378e+00   2.914e+00\n",
      "    5.811e+00   5.575e+00   1.246e+00   3.648e+00   6.023e-01   2.109e-01\n",
      "    1.188e+00   3.165e+00   1.867e+00   3.344e+00   2.431e+00   1.795e-01\n",
      "   -1.568e+00   7.555e-01   1.776e-01   1.300e-01   9.945e-01   3.257e+00\n",
      "    3.249e+00   5.294e+00   1.484e+00   1.268e+00   3.057e+00   2.111e+00\n",
      "    1.871e+00   2.981e+00   1.568e+00   2.845e+00   3.059e+00   1.616e+00\n",
      "    2.187e+00   4.394e+00   1.287e+00   1.902e+00]\n",
      " [  4.175e-01   1.423e-02   3.932e-01  -4.703e-01   1.106e+00  -1.090e-01\n",
      "    4.942e-01   5.097e-01  -2.508e-01   8.795e-02   4.555e-02   5.285e-01\n",
      "    6.182e-01   1.920e-01   9.300e-02   1.669e-01   1.081e-01  -3.369e-01\n",
      "    4.794e-01   4.779e-01   1.815e-01   2.324e-01   5.118e-02   2.275e-01\n",
      "    2.001e-01   3.594e-01   3.164e-01  -1.707e-01   1.802e-01   5.271e-01\n",
      "    3.326e-01  -5.237e-02   1.801e-02  -1.145e-01   5.679e-01   8.462e-02\n",
      "    7.515e-02   4.562e-02   2.881e-02   4.954e-02   2.692e-01   5.767e-01\n",
      "    4.120e-01  -4.321e-02  -1.779e-01   5.528e-01   2.738e-01  -9.365e-02\n",
      "    4.182e-01   5.168e-01  -2.756e-01  -1.325e-01   2.639e-01   3.859e-01\n",
      "    4.287e-01   5.468e-01   2.826e-01   4.788e-03   6.207e-01   7.267e-01\n",
      "   -1.308e-01   4.844e-01   1.212e-01  -9.370e-02   5.198e-01  -1.412e-01\n",
      "    1.016e+00   6.309e-01  -1.164e-02   5.081e-01   1.452e-01   2.729e-01\n",
      "   -1.214e-01   3.545e-01  -9.441e-02   3.481e-02   4.453e-01  -4.425e-01\n",
      "   -4.556e-01   5.678e-02  -2.406e-01  -4.182e-02   1.805e-01   2.401e-01\n",
      "    5.006e-01   5.016e-01  -3.989e-01   7.205e-01   2.950e-01   3.757e-01\n",
      "   -3.634e-01   7.715e-02  -4.444e-02   6.544e-01   7.233e-02   1.818e-01\n",
      "   -1.802e-01   1.974e-01   2.058e-01  -2.591e-02]\n",
      " [  4.611e+00   3.320e+00   4.181e+00   3.464e+00   4.263e+00   3.868e+00\n",
      "    3.176e+00   2.728e+00   2.106e+00   3.001e+00   3.075e+00   1.794e+00\n",
      "    1.815e+00   3.816e+00   3.795e+00   3.174e+00   3.598e+00   2.073e+00\n",
      "    4.118e+00   3.913e+00   4.729e+00   2.414e+00   3.407e+00   3.129e+00\n",
      "    4.002e+00   2.762e+00   4.024e+00   1.179e+00   8.982e-01   4.732e+00\n",
      "    2.319e+00   2.360e+00   2.775e+00   3.590e+00   4.714e+00   5.159e+00\n",
      "    4.422e+00   3.789e+00   1.330e+00   2.770e+00   2.928e+00   2.819e+00\n",
      "    3.936e+00   2.504e+00   2.914e+00   2.764e+00   3.623e+00   2.255e+00\n",
      "    3.995e+00   3.581e+00   2.018e+00   3.219e+00   3.501e+00   3.422e+00\n",
      "    3.288e+00   2.800e+00   3.366e+00   4.736e+00   3.898e+00   3.684e+00\n",
      "    2.220e+00   3.480e+00   2.590e+00   2.668e+00   4.589e+00   3.247e+00\n",
      "    3.842e+00   4.029e+00   2.899e+00   4.048e+00   2.867e+00   2.568e+00\n",
      "    2.328e+00   2.516e+00   2.933e+00   3.449e+00   2.587e+00   2.158e+00\n",
      "    3.926e+00   2.553e+00   2.812e+00   4.343e+00   2.169e+00   2.200e+00\n",
      "    3.199e+00   3.576e+00   1.787e+00   3.994e+00   4.498e+00   3.226e+00\n",
      "    3.472e+00   2.559e+00   2.904e+00   4.709e+00   3.849e+00   2.145e+00\n",
      "    1.951e+00   2.756e+00   3.419e+00   4.186e+00]\n",
      " [ -1.132e+00  -1.259e+00  -1.109e+00  -9.188e-01  -7.726e-01  -1.019e+00\n",
      "   -1.030e+00  -9.671e-01  -7.535e-01  -1.264e+00  -1.188e+00  -1.162e+00\n",
      "   -1.380e+00  -1.135e+00  -6.321e-01  -1.539e+00  -7.649e-01  -1.732e+00\n",
      "   -1.434e+00  -7.761e-01  -8.308e-01  -8.056e-01  -1.016e+00  -1.045e+00\n",
      "   -6.808e-01  -1.118e+00  -1.075e+00  -1.235e+00  -1.141e+00  -3.251e-01\n",
      "   -1.575e+00  -1.210e+00  -9.915e-01  -1.254e+00  -8.853e-01  -8.727e-01\n",
      "   -1.255e+00  -9.183e-01  -1.454e+00  -1.055e+00  -1.277e+00  -1.289e+00\n",
      "   -1.056e+00  -4.012e-01  -1.083e+00  -1.285e+00  -5.152e-01  -8.418e-01\n",
      "   -7.431e-01  -9.383e-01  -1.202e+00  -1.379e+00  -7.381e-01  -1.063e+00\n",
      "   -1.061e+00  -9.062e-01  -1.040e+00  -6.583e-01  -1.253e+00  -8.845e-01\n",
      "   -9.258e-01  -1.005e+00  -1.041e+00  -6.918e-01  -1.303e+00  -9.808e-01\n",
      "   -9.100e-01  -9.417e-01  -8.674e-01  -6.116e-01  -1.085e+00  -1.498e+00\n",
      "   -8.912e-01  -1.595e+00  -1.342e+00  -1.208e+00  -1.188e+00  -1.048e+00\n",
      "   -7.840e-01  -1.217e+00  -8.120e-01  -7.791e-01  -1.341e+00  -9.784e-01\n",
      "   -8.862e-01  -1.248e+00  -1.445e+00  -9.252e-01  -1.052e+00  -6.509e-01\n",
      "   -9.912e-01  -7.812e-01  -7.603e-01  -3.205e-01  -4.362e-01  -1.557e+00\n",
      "   -7.328e-01  -1.029e+00  -7.330e-01  -7.208e-01]] \n",
      "New data covariance matrix:\n",
      "[[  1.051e-01   2.623e-02   4.140e-02  -2.720e-03   2.185e-04  -2.568e-03]\n",
      " [  2.623e-02   4.372e-02   1.374e-01   1.299e-02   2.031e-03  -1.093e-03]\n",
      " [  4.140e-02   1.374e-01   2.638e+00   2.958e-01   4.014e-01  -1.264e-03]\n",
      " [ -2.720e-03   1.299e-02   2.958e-01   9.895e-02   9.501e-02   5.032e-03]\n",
      " [  2.185e-04   2.031e-03   4.014e-01   9.501e-02   7.711e-01   9.768e-02]\n",
      " [ -2.568e-03  -1.093e-03  -1.264e-03   5.032e-03   9.768e-02   8.002e-02]] \n",
      "\n",
      "C - cov(X) normalised to C:\n",
      "[[-0.167 -0.192  0.321  1.68   0.945  3.568]\n",
      " [-0.192 -0.093 -0.245 -0.624  0.746  2.093]\n",
      " [ 0.321 -0.245 -0.172 -0.793 -1.478  1.057]\n",
      " [ 1.68  -0.624 -0.793 -0.099 -0.08   0.581]\n",
      " [ 0.945  0.746 -1.478 -0.08  -0.205 -0.11 ]\n",
      " [ 3.568  2.093  1.057  0.581 -0.11   0.111]]\n",
      "\n",
      "Covariance at the start [[ 1.167  0.01  -0.075 -0.062  0.012 -0.037]\n",
      " [ 0.01   1.074  0.094  0.083 -0.083 -0.01 ]\n",
      " [-0.075  0.094  1.137  0.241  0.136 -0.134]\n",
      " [-0.062  0.083  0.241  0.894 -0.048 -0.048]\n",
      " [ 0.012 -0.083  0.136 -0.048  1.227 -0.003]\n",
      " [-0.037 -0.01  -0.134 -0.048 -0.003  0.87 ]]\n",
      "\n",
      "and correlation coefficient: [[ 1.     0.009 -0.065 -0.061  0.01  -0.037]\n",
      " [ 0.009  1.     0.085  0.085 -0.073 -0.01 ]\n",
      " [-0.065  0.085  1.     0.239  0.115 -0.135]\n",
      " [-0.061  0.085  0.239  1.    -0.046 -0.055]\n",
      " [ 0.01  -0.073  0.115 -0.046  1.    -0.003]\n",
      " [-0.037 -0.01  -0.135 -0.055 -0.003  1.   ]]\n",
      "\n",
      "the original data `v`:\n",
      "[[  1.335e+00  -6.429e-01   1.073e+00   1.591e+00  -2.627e-01   2.737e+00\n",
      "    1.420e-01   7.503e-01  -1.524e+00  -3.319e-01   6.343e-01  -1.047e+00\n",
      "    2.747e-01  -1.788e+00   9.800e-01   4.781e-01   2.218e+00   9.488e-02\n",
      "    1.261e+00  -8.103e-01  -2.050e+00   2.186e+00  -8.589e-01  -1.515e+00\n",
      "    4.374e-01   3.909e-02   2.789e-01   8.945e-01   7.332e-01  -1.134e+00\n",
      "   -1.839e-01  -3.810e-01  -1.537e+00   6.377e-01   2.271e+00   2.277e-01\n",
      "    1.289e+00  -1.096e-01   6.441e-01   1.069e+00  -3.878e-01   1.370e+00\n",
      "   -6.955e-01  -5.155e-01  -4.818e-01  -4.717e-01  -6.853e-01  -7.207e-01\n",
      "   -1.023e+00   2.111e+00  -1.722e+00  -1.519e+00   1.959e-03   4.654e-02\n",
      "    1.520e+00   8.332e-01   1.364e-01   6.606e-01   2.566e-01  -4.623e-01\n",
      "    5.195e-01   1.166e+00  -1.542e+00   4.063e-01  -3.145e+00   2.305e-01\n",
      "   -1.078e+00  -1.522e-01  -3.333e-01   1.400e+00  -3.098e-03  -3.715e-01\n",
      "    1.542e+00  -9.949e-01  -4.361e-01   2.875e-02  -1.961e+00   8.484e-03\n",
      "    6.502e-02  -2.313e-01  -9.532e-01  -9.314e-01   1.120e+00   5.857e-01\n",
      "   -2.128e+00   8.775e-01   1.702e-01   4.283e-01  -6.512e-01   2.348e-01\n",
      "    1.109e+00   2.839e-01  -8.822e-01  -5.975e-01   5.769e-02   1.740e+00\n",
      "   -3.070e-01  -8.586e-01   6.388e-01   9.135e-02]\n",
      " [ -4.271e-01  -4.589e-01   1.601e+00  -1.778e+00  -9.741e-01  -5.238e-01\n",
      "    5.887e-01   1.687e+00  -2.390e-01   1.252e+00   7.617e-01   1.168e+00\n",
      "   -1.223e+00  -1.603e-01   2.944e-01   8.764e-01  -7.380e-01  -2.469e-01\n",
      "    8.880e-01   3.199e-01   6.215e-02  -1.400e+00  -1.402e+00  -1.920e-01\n",
      "    1.008e+00  -2.455e-01  -2.168e-01  -4.781e-01   2.077e+00   2.215e+00\n",
      "    1.362e+00   4.802e-01  -4.224e-01  -1.874e+00  -1.875e-01   6.820e-01\n",
      "   -2.956e+00  -8.257e-01   3.233e-01   9.531e-01  -3.796e-01   5.783e-01\n",
      "    1.361e+00  -6.040e-01   8.498e-02  -2.006e+00  -2.777e-01   2.811e-02\n",
      "    5.008e-01   1.700e+00  -1.989e+00  -8.189e-02   4.404e-01  -1.334e+00\n",
      "    7.987e-01   1.335e+00  -3.566e-01  -6.906e-01   6.093e-01  -1.167e-01\n",
      "   -3.973e-01   9.653e-01   7.604e-01  -4.865e-01  -2.127e-01   1.302e+00\n",
      "    1.755e+00   3.073e-01  -1.096e+00  -2.509e-01   2.767e-01   1.122e+00\n",
      "    3.640e-01  -1.675e-02   2.396e+00   4.377e-01   1.302e-01   1.698e-01\n",
      "   -8.890e-01  -1.679e+00  -1.045e+00  -2.130e-01  -1.886e+00   1.390e+00\n",
      "   -1.367e+00   9.179e-02   1.144e+00   8.325e-01   5.616e-01   2.750e-01\n",
      "    9.594e-01  -2.757e-01  -1.390e+00  -2.160e-01   1.126e+00  -1.311e+00\n",
      "   -3.399e-01   1.194e+00  -4.821e-01  -4.809e-01]\n",
      " [  8.129e-01   1.534e+00   9.985e-01  -1.106e+00   1.728e+00  -3.911e-01\n",
      "    1.489e-01   6.594e-02  -3.303e-02   5.423e-01  -8.325e-01  -1.467e+00\n",
      "    6.151e-02  -1.831e-01  -3.247e-01  -6.776e-01  -1.048e+00  -3.113e-01\n",
      "    1.575e+00   4.137e-01   3.358e-01  -2.891e-01   2.600e+00   1.274e+00\n",
      "    1.642e-01  -1.174e+00  -2.318e-01  -1.765e+00  -1.208e-01   8.686e-01\n",
      "    9.841e-01  -1.970e+00  -2.965e-02  -2.499e-01  -3.869e-01   2.399e-01\n",
      "    4.567e-01  -1.158e+00  -3.947e-01   2.387e-01  -2.535e-01   1.162e+00\n",
      "    1.020e+00  -1.192e+00  -1.330e+00   2.570e+00  -3.989e-01  -2.011e+00\n",
      "    1.541e-01   8.364e-01  -2.387e+00  -7.207e-01   7.909e-01  -5.088e-01\n",
      "   -8.836e-02   1.130e+00   2.637e+00  -1.993e-01   6.198e-01  -2.940e-03\n",
      "   -2.415e-01  -1.704e-01  -2.309e-02  -8.294e-01   1.879e-02   7.083e-02\n",
      "    2.172e+00   2.401e+00  -1.604e-01   9.980e-01  -1.175e+00  -1.713e+00\n",
      "   -1.013e+00   9.145e-01  -9.855e-01   7.270e-01   4.753e-01  -1.441e+00\n",
      "   -2.313e+00  -3.123e-01  -8.548e-01  -1.198e+00  -2.621e-01   2.331e-01\n",
      "    1.637e+00   2.128e+00  -8.877e-01  -9.654e-01   5.744e-01  -1.274e-01\n",
      "   -6.788e-01   6.915e-01   2.587e-01   7.005e-01   2.648e-01  -1.178e-01\n",
      "    2.323e-01   1.331e+00  -4.985e-01   2.160e-02]\n",
      " [  4.748e-01  -1.136e+00   5.776e-02  -1.831e+00   2.754e+00  -1.023e+00\n",
      "    9.129e-01   8.213e-01  -1.498e+00  -7.541e-01  -3.810e-01   1.608e+00\n",
      "    1.628e+00   1.456e-01  -3.508e-01  -1.123e-02   4.929e-02  -1.780e+00\n",
      "    2.426e-01   8.393e-01  -1.000e-01   3.072e-01  -1.257e+00  -2.709e-01\n",
      "   -2.172e-01   1.033e+00   5.183e-01  -6.582e-01  -3.426e-01   6.079e-01\n",
      "   -6.158e-02  -2.278e-01  -5.107e-01  -8.121e-01   1.377e+00  -6.046e-01\n",
      "   -2.769e-01  -1.103e-02  -5.429e-01  -8.067e-01   4.108e-01   7.792e-01\n",
      "    2.344e-01  -3.274e-01  -8.542e-01   6.143e-01   4.811e-01  -2.830e-01\n",
      "    7.064e-01   4.971e-01  -4.765e-01  -8.430e-01  -1.209e-01   1.031e+00\n",
      "    6.712e-01   6.073e-01  -6.304e-01  -5.644e-01   1.185e+00   1.926e+00\n",
      "   -1.068e+00   8.952e-01  -3.030e-01  -7.014e-01   1.318e+00  -1.436e+00\n",
      "    1.941e+00   6.281e-01  -5.353e-01   7.045e-01   1.977e-01   7.561e-01\n",
      "   -9.025e-01   2.676e-01  -9.962e-01  -9.194e-01   7.804e-01  -1.796e+00\n",
      "   -1.383e+00  -1.603e-01  -1.078e+00  -3.532e-01   2.279e-01  -1.576e-01\n",
      "    7.624e-01   2.447e-01  -1.983e+00   2.086e+00   8.460e-02   6.279e-01\n",
      "   -1.952e+00  -6.703e-01  -7.407e-01   1.429e+00  -7.097e-01   7.209e-02\n",
      "   -1.387e+00  -6.184e-01   2.384e-01  -7.567e-01]\n",
      " [  1.744e+00   5.400e-01   1.196e+00   1.371e+00   3.745e-01   1.437e+00\n",
      "   -2.850e-01  -9.084e-01  -7.431e-01   1.329e-02   1.684e-01  -2.187e+00\n",
      "   -2.275e+00   9.734e-01   1.073e+00   1.425e-01   7.893e-01  -6.747e-01\n",
      "    9.989e-01   7.274e-01   2.213e+00  -9.638e-01   6.088e-01   3.564e-03\n",
      "    1.210e+00  -6.628e-01   1.089e+00  -2.094e+00  -2.935e+00   1.761e+00\n",
      "   -1.225e+00  -6.628e-01  -1.962e-01   1.073e+00   1.685e+00   2.917e+00\n",
      "    1.943e+00   1.130e+00  -2.154e+00  -2.471e-01  -3.217e-01  -8.736e-01\n",
      "    8.431e-01  -4.807e-01   2.461e-01  -9.133e-01   6.071e-01  -7.497e-01\n",
      "    9.164e-01   2.269e-01  -8.260e-01   5.976e-01   4.542e-01   1.901e-01\n",
      "   -4.877e-02  -8.610e-01   2.487e-01   2.454e+00   5.191e-01   9.373e-02\n",
      "   -7.478e-01   1.352e-01  -5.824e-01  -1.944e-01   1.583e+00   6.437e-01\n",
      "   -7.715e-02   6.816e-01   9.511e-03   8.693e-01  -2.410e-01  -8.115e-01\n",
      "   -6.165e-01  -9.868e-01   1.598e-01   6.847e-01  -1.011e+00  -4.216e-01\n",
      "    1.972e+00  -5.453e-01   1.932e-01   1.988e+00  -1.223e+00  -1.264e+00\n",
      "   -2.599e-01   2.421e-01  -9.792e-01   5.171e-01   1.753e+00  -6.166e-02\n",
      "    1.238e+00  -5.651e-01   5.913e-02   1.566e+00   1.172e+00  -1.258e+00\n",
      "   -1.044e+00  -4.605e-01   4.216e-01   1.756e+00]\n",
      " [ -1.225e+00  -1.036e+00  -9.213e-01   9.348e-02   2.419e-01  -4.664e-01\n",
      "   -1.417e-01   3.050e-01   1.379e+00  -8.907e-01  -6.626e-01   7.671e-02\n",
      "   -7.317e-01  -8.292e-01   9.711e-01  -1.967e+00   5.820e-01  -2.120e+00\n",
      "   -2.060e+00   4.080e-01  -1.862e-01   1.018e+00  -2.095e-01  -1.679e-01\n",
      "    7.004e-01  -2.548e-01  -7.268e-01   9.709e-02   5.855e-01   1.629e+00\n",
      "   -1.668e+00  -3.829e-01   1.965e-01  -1.163e+00  -3.964e-01  -5.587e-01\n",
      "   -1.584e+00  -4.996e-02  -7.579e-01  -3.611e-02  -9.069e-01  -9.021e-01\n",
      "   -6.032e-01   2.440e+00  -2.029e-01  -8.591e-01   1.482e+00   9.874e-01\n",
      "    4.869e-01  -1.971e-02  -1.906e-01  -1.410e+00   7.424e-01  -3.879e-01\n",
      "   -3.172e-01   4.858e-01  -2.783e-01   4.104e-01  -1.298e+00   1.297e-01\n",
      "    6.944e-01  -2.069e-01   1.161e-01   1.312e+00  -1.802e+00  -1.142e-03\n",
      "   -2.801e-02  -2.465e-01   5.708e-01   9.159e-01  -1.898e-01  -1.514e+00\n",
      "    7.629e-01  -1.838e+00  -1.132e+00  -9.157e-01  -4.073e-01   2.924e-01\n",
      "    3.606e-01  -5.141e-01   8.151e-01   1.822e-01  -7.752e-01   5.238e-01\n",
      "    3.660e-01  -1.128e+00  -9.440e-01  -1.697e-01  -8.715e-01   1.189e+00\n",
      "   -1.561e-01   1.047e+00   9.538e-01   1.645e+00   1.654e+00  -1.538e+00\n",
      "    1.523e+00   7.602e-02   7.941e-01   4.612e-01]]\n",
      "means and vars for each new data row:\n",
      "mean= 0.510499668135 var= 0.10401519892\n",
      "mean= -0.388579404942 var= 0.0432795645108\n",
      "mean= 2.16791266047 var= 2.61137824153\n",
      "mean= 0.192680021174 var= 0.0979626697816\n",
      "mean= 3.20891397072 var= 0.763357962899\n",
      "mean= -1.01637718899 var= 0.0792185697639\n"
     ]
    }
   ],
   "source": [
    "### Correlating the data\n",
    "np.set_printoptions(precision=3)\n",
    "# Covariance matrix for vector v\n",
    "C = np.matrix([[.090, .022, .061, .004, .004, .001],\n",
    "               [.022, .040, .1104, .008, .008, .001],\n",
    "               [.061, .1104, 2.25, .165, .162, .022],\n",
    "               [.004, .008, .1650, .090, .088, .012],\n",
    "               [.004, .008, .1620, .088, .640, .088],\n",
    "               [.001, .001, .0220, .012, .088, .090]])\n",
    "print \"Demanded covariance matrix C:\\n\", C, '\\n'\n",
    "C == C.T\n",
    "L = np.linalg.cholesky(C)\n",
    "# print \"Cholesky L (lower triangular) matrix:\\n\", L, '\\n'\n",
    "X = np.dot(L, v) + np.reshape(mu_list, newshape=(len(mu_list), 1))\n",
    "print \"New data: \\n\", X, \"\\nNew data covariance matrix:\\n\", np.cov(X), '\\n'\n",
    "print \"C - cov(X) normalised to C:\\n\", (C - np.cov(X)) / C\n",
    "print '\\nCovariance at the start', np.cov(v)\n",
    "print '\\nand correlation coefficient:', np.corrcoef(v)\n",
    "print '\\nthe original data `v`:\\n', v\n",
    "\n",
    "# CHECKED OK\n",
    "print \"means and vars for each new data row:\"\n",
    "for row in X:\n",
    "    print \"mean=\", np.mean(row), \"var=\", np.var(row)\n",
    "# ### check numpy; as expected\n",
    "# m1 = np.matrix([[1.,2.,3.], [2.,4.,6.], [3., 6., 9.]])\n",
    "# m2 = m1 + 9\n",
    "# print m1, '\\n\\n', m2, '\\n\\n'\n",
    "# print m1/m2\n",
    "\n",
    "# The biggest deviations within order of magnitude!!! and convergent (i.e. for 100k results better than for 10k)"
   ]
  },
  {
   "cell_type": "code",
   "execution_count": null,
   "metadata": {
    "collapsed": false,
    "scrolled": true
   },
   "outputs": [],
   "source": [
    "\n",
    "\n",
    "### Toy example - generating correlated normal variables\n",
    "from scipy.stats import norm\n",
    "Z = norm.rvs(size=(3,10000))\n",
    "C = np.matrix([[1, .5, .5],\n",
    "               [.5, 1, .5],\n",
    "               [.5, .5, 1]])\n",
    "print C == C.T\n",
    "L = np.linalg.cholesky(C)\n",
    "# my_L = cholesky(C)  ## doesn't work yet\n",
    "# print L == my_L\n",
    "print L\n",
    "X = np.dot(L, Z)\n",
    "print np.cov(X)"
   ]
  },
  {
   "cell_type": "code",
   "execution_count": null,
   "metadata": {
    "collapsed": true
   },
   "outputs": [],
   "source": [
    "from math import sqrt\n",
    " \n",
    "#TODO: the below seems not to work. Debug it.\n",
    "def cholesky(A):\n",
    "    \"\"\"Performs a Cholesky decomposition of A, which must \n",
    "    be a symmetric and positive definite matrix. The function\n",
    "    returns the lower variant triangular matrix, L.\"\"\"\n",
    "    n = len(A)\n",
    "\n",
    "    # Create zero matrix for L\n",
    "    L = [[0.0] * n for i in xrange(n)]\n",
    "\n",
    "    # Perform the Cholesky decomposition\n",
    "    for i in xrange(n):\n",
    "        for k in xrange(i+1):\n",
    "            tmp_sum = sum(L[i][j] * L[k][j] for j in xrange(k))\n",
    "            \n",
    "            if (i == k): # Diagonal elements\n",
    "                # LaTeX: l_{kk} = \\sqrt{ a_{kk} - \\sum^{k-1}_{j=1} l^2_{kj}}\n",
    "                L[i][k] = sqrt(A[i][i] - tmp_sum)\n",
    "            else:\n",
    "                # LaTeX: l_{ik} = \\frac{1}{l_{kk}} \\left( a_{ik} - \\sum^{k-1}_{j=1} l_{ij} l_{kj} \\right)\n",
    "                L[i][k] = (1.0 / L[k][k] * (A[i][k] - tmp_sum))\n",
    "    return L"
   ]
  },
  {
   "cell_type": "code",
   "execution_count": null,
   "metadata": {
    "collapsed": false
   },
   "outputs": [],
   "source": [
    "# convert covariance matrix C to correlation matrix R\n",
    "# print np.diag(C)"
   ]
  },
  {
   "cell_type": "code",
   "execution_count": null,
   "metadata": {
    "collapsed": false
   },
   "outputs": [],
   "source": [
    "# diag_inv_sqrt = np.diag(1 / np.sqrt(np.diag(C)))\n",
    "# print diag_inv"
   ]
  },
  {
   "cell_type": "code",
   "execution_count": null,
   "metadata": {
    "collapsed": false
   },
   "outputs": [],
   "source": [
    "# R = diag_inv_sqrt * C * diag_inv_sqrt\n",
    "# print R  # looks correct!"
   ]
  },
  {
   "cell_type": "code",
   "execution_count": null,
   "metadata": {
    "collapsed": false
   },
   "outputs": [],
   "source": [
    "### sanity check\n",
    "# print .022 / np.sqrt(0.09 * 0.04)"
   ]
  },
  {
   "cell_type": "code",
   "execution_count": null,
   "metadata": {
    "collapsed": false
   },
   "outputs": [],
   "source": [
    "# L_corr = np.linalg.cholesky(R)\n",
    "L_corr = np.linalg.cholesky(C)\n",
    "print L_corr"
   ]
  },
  {
   "cell_type": "code",
   "execution_count": null,
   "metadata": {
    "collapsed": false
   },
   "outputs": [],
   "source": [
    "mu_list = [0.5, -0.4, 2.1, 0.2, 3.1, -1.0]\n",
    "Y = np.dot(L_corr.T, v)  # for now w/out means\n",
    "# print Y\n",
    "print np.cov(Y)\n",
    "# print (np.cov(Y) - C) / C * 100 # unsure\n",
    "print np.cov(Y) == np.cov(Y).T"
   ]
  },
  {
   "cell_type": "code",
   "execution_count": null,
   "metadata": {
    "collapsed": false
   },
   "outputs": [],
   "source": [
    "# print v\n",
    "# print \"\\n\\n\\n\"\n",
    "# print v[:, 0] # 1st col\n",
    "# fc = v[:, 0]\n",
    "# print np.shape(fc)\n",
    "# print np.shape(fc.T)\n",
    "\n",
    "# print fc\n",
    "# print fc.reshape(1, 6)\n",
    "# print fc.transpose()\n",
    "# print fc.transpose()"
   ]
  },
  {
   "cell_type": "code",
   "execution_count": null,
   "metadata": {
    "collapsed": false
   },
   "outputs": [],
   "source": [
    "dumm = np.matrix([[1, 2], [3, 4]])\n",
    "M = np.matrix([[10, 0], [0, 100]])\n",
    "for i in range(2):\n",
    "    dumm[:, i] = np.dot(M, dumm[:, i])\n",
    "    \n",
    "print dumm"
   ]
  },
  {
   "cell_type": "code",
   "execution_count": null,
   "metadata": {
    "collapsed": false
   },
   "outputs": [],
   "source": [
    "for i in range(N):\n",
    "    v[:, i] = np.dot(L_corr, v[:, i])"
   ]
  },
  {
   "cell_type": "code",
   "execution_count": null,
   "metadata": {
    "collapsed": false
   },
   "outputs": [],
   "source": [
    "# print v\n",
    "print 'Checking if the vector v has expected parameters:'\n",
    "for row in range(6):\n",
    "    print ( ((mu_list[row] - np.mean(v[row, :])) / mu_list[row]) ** 2 )#< epsilon )\n",
    "    print ( ((sig_list[row] - np.std(v[row, :])) / sig_list[row]) ** 2)# < epsilon )  "
   ]
  },
  {
   "cell_type": "code",
   "execution_count": null,
   "metadata": {
    "collapsed": false
   },
   "outputs": [],
   "source": [
    "C_mc = np.cov(v)"
   ]
  },
  {
   "cell_type": "code",
   "execution_count": null,
   "metadata": {
    "collapsed": false
   },
   "outputs": [],
   "source": [
    "# to compare the given covariance matrix with the computed one\n",
    "# it's useful to calculate their difference normalised to the given one\n",
    "\n",
    "cov_diff = 100 * (C_mc - C) / C  # in [%]\n",
    "print cov_diff"
   ]
  },
  {
   "cell_type": "code",
   "execution_count": null,
   "metadata": {
    "collapsed": true
   },
   "outputs": [],
   "source": []
  }
 ],
 "metadata": {
  "kernelspec": {
   "display_name": "Python 2",
   "language": "python",
   "name": "python2"
  },
  "language_info": {
   "codemirror_mode": {
    "name": "ipython",
    "version": 2
   },
   "file_extension": ".py",
   "mimetype": "text/x-python",
   "name": "python",
   "nbconvert_exporter": "python",
   "pygments_lexer": "ipython2",
   "version": "2.7.13"
  }
 },
 "nbformat": 4,
 "nbformat_minor": 0
}
